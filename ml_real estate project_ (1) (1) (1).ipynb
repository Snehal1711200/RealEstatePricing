{
 "cells": [
  {
   "cell_type": "code",
   "execution_count": 5,
   "metadata": {
    "id": "Z_F34CRt8wD7"
   },
   "outputs": [],
   "source": [
    "import numpy as np\n",
    "import pandas as pd\n",
    "import matplotlib.pyplot as plt\n",
    "import seaborn as sns\n",
    "%matplotlib inline"
   ]
  },
  {
   "cell_type": "code",
   "execution_count": 6,
   "metadata": {
    "id": "pZG3iurw9OCZ"
   },
   "outputs": [],
   "source": [
    "df=pd.read_csv('real_estate_dataset.csv')"
   ]
  },
  {
   "cell_type": "code",
   "execution_count": 7,
   "metadata": {
    "colab": {
     "base_uri": "https://localhost:8080/"
    },
    "id": "et4iQGpL9it0",
    "outputId": "f5dc6aa0-1812-4e5a-aa43-18fac6ebea86"
   },
   "outputs": [
    {
     "data": {
      "text/plain": [
       "Index(['ID', 'Square_Feet', 'Num_Bedrooms', 'Num_Bathrooms', 'Num_Floors',\n",
       "       'Year_Built', 'Has_Garden', 'Has_Pool', 'Garage_Size', 'Location_Score',\n",
       "       'Distance_to_Center', 'Price'],\n",
       "      dtype='object')"
      ]
     },
     "execution_count": 7,
     "metadata": {},
     "output_type": "execute_result"
    }
   ],
   "source": [
    "df.keys()"
   ]
  },
  {
   "cell_type": "code",
   "execution_count": 8,
   "metadata": {
    "colab": {
     "base_uri": "https://localhost:8080/"
    },
    "id": "MGQlAEni-aUi",
    "outputId": "02748b2e-6906-42d9-ce2e-13708dad1074"
   },
   "outputs": [
    {
     "data": {
      "text/html": [
       "<div>\n",
       "<style scoped>\n",
       "    .dataframe tbody tr th:only-of-type {\n",
       "        vertical-align: middle;\n",
       "    }\n",
       "\n",
       "    .dataframe tbody tr th {\n",
       "        vertical-align: top;\n",
       "    }\n",
       "\n",
       "    .dataframe thead th {\n",
       "        text-align: right;\n",
       "    }\n",
       "</style>\n",
       "<table border=\"1\" class=\"dataframe\">\n",
       "  <thead>\n",
       "    <tr style=\"text-align: right;\">\n",
       "      <th></th>\n",
       "      <th>count</th>\n",
       "      <th>mean</th>\n",
       "      <th>std</th>\n",
       "      <th>min</th>\n",
       "      <th>25%</th>\n",
       "      <th>50%</th>\n",
       "      <th>75%</th>\n",
       "      <th>max</th>\n",
       "    </tr>\n",
       "  </thead>\n",
       "  <tbody>\n",
       "    <tr>\n",
       "      <th>ID</th>\n",
       "      <td>500.0</td>\n",
       "      <td>250.500000</td>\n",
       "      <td>144.481833</td>\n",
       "      <td>1.000000</td>\n",
       "      <td>125.750000</td>\n",
       "      <td>250.500000</td>\n",
       "      <td>375.250000</td>\n",
       "      <td>500.000000</td>\n",
       "    </tr>\n",
       "    <tr>\n",
       "      <th>Square_Feet</th>\n",
       "      <td>500.0</td>\n",
       "      <td>174.640428</td>\n",
       "      <td>74.672102</td>\n",
       "      <td>51.265396</td>\n",
       "      <td>110.319923</td>\n",
       "      <td>178.290937</td>\n",
       "      <td>239.031220</td>\n",
       "      <td>298.241199</td>\n",
       "    </tr>\n",
       "    <tr>\n",
       "      <th>Num_Bedrooms</th>\n",
       "      <td>500.0</td>\n",
       "      <td>2.958000</td>\n",
       "      <td>1.440968</td>\n",
       "      <td>1.000000</td>\n",
       "      <td>2.000000</td>\n",
       "      <td>3.000000</td>\n",
       "      <td>4.000000</td>\n",
       "      <td>5.000000</td>\n",
       "    </tr>\n",
       "    <tr>\n",
       "      <th>Num_Bathrooms</th>\n",
       "      <td>500.0</td>\n",
       "      <td>1.976000</td>\n",
       "      <td>0.820225</td>\n",
       "      <td>1.000000</td>\n",
       "      <td>1.000000</td>\n",
       "      <td>2.000000</td>\n",
       "      <td>3.000000</td>\n",
       "      <td>3.000000</td>\n",
       "    </tr>\n",
       "    <tr>\n",
       "      <th>Num_Floors</th>\n",
       "      <td>500.0</td>\n",
       "      <td>1.964000</td>\n",
       "      <td>0.802491</td>\n",
       "      <td>1.000000</td>\n",
       "      <td>1.000000</td>\n",
       "      <td>2.000000</td>\n",
       "      <td>3.000000</td>\n",
       "      <td>3.000000</td>\n",
       "    </tr>\n",
       "    <tr>\n",
       "      <th>Year_Built</th>\n",
       "      <td>500.0</td>\n",
       "      <td>1957.604000</td>\n",
       "      <td>35.491781</td>\n",
       "      <td>1900.000000</td>\n",
       "      <td>1926.000000</td>\n",
       "      <td>1959.000000</td>\n",
       "      <td>1988.000000</td>\n",
       "      <td>2022.000000</td>\n",
       "    </tr>\n",
       "    <tr>\n",
       "      <th>Has_Garden</th>\n",
       "      <td>500.0</td>\n",
       "      <td>0.536000</td>\n",
       "      <td>0.499202</td>\n",
       "      <td>0.000000</td>\n",
       "      <td>0.000000</td>\n",
       "      <td>1.000000</td>\n",
       "      <td>1.000000</td>\n",
       "      <td>1.000000</td>\n",
       "    </tr>\n",
       "    <tr>\n",
       "      <th>Has_Pool</th>\n",
       "      <td>500.0</td>\n",
       "      <td>0.492000</td>\n",
       "      <td>0.500437</td>\n",
       "      <td>0.000000</td>\n",
       "      <td>0.000000</td>\n",
       "      <td>0.000000</td>\n",
       "      <td>1.000000</td>\n",
       "      <td>1.000000</td>\n",
       "    </tr>\n",
       "    <tr>\n",
       "      <th>Garage_Size</th>\n",
       "      <td>500.0</td>\n",
       "      <td>30.174000</td>\n",
       "      <td>11.582575</td>\n",
       "      <td>10.000000</td>\n",
       "      <td>20.000000</td>\n",
       "      <td>30.000000</td>\n",
       "      <td>41.000000</td>\n",
       "      <td>49.000000</td>\n",
       "    </tr>\n",
       "    <tr>\n",
       "      <th>Location_Score</th>\n",
       "      <td>500.0</td>\n",
       "      <td>5.164410</td>\n",
       "      <td>2.853489</td>\n",
       "      <td>0.004428</td>\n",
       "      <td>2.760650</td>\n",
       "      <td>5.206518</td>\n",
       "      <td>7.732933</td>\n",
       "      <td>9.995439</td>\n",
       "    </tr>\n",
       "    <tr>\n",
       "      <th>Distance_to_Center</th>\n",
       "      <td>500.0</td>\n",
       "      <td>10.469641</td>\n",
       "      <td>5.588197</td>\n",
       "      <td>0.062818</td>\n",
       "      <td>6.066754</td>\n",
       "      <td>10.886066</td>\n",
       "      <td>15.072590</td>\n",
       "      <td>19.927966</td>\n",
       "    </tr>\n",
       "    <tr>\n",
       "      <th>Price</th>\n",
       "      <td>500.0</td>\n",
       "      <td>582209.629529</td>\n",
       "      <td>122273.390345</td>\n",
       "      <td>276892.470136</td>\n",
       "      <td>503080.344140</td>\n",
       "      <td>574724.113347</td>\n",
       "      <td>665942.301274</td>\n",
       "      <td>960678.274291</td>\n",
       "    </tr>\n",
       "  </tbody>\n",
       "</table>\n",
       "</div>"
      ],
      "text/plain": [
       "                    count           mean            std            min  \\\n",
       "ID                  500.0     250.500000     144.481833       1.000000   \n",
       "Square_Feet         500.0     174.640428      74.672102      51.265396   \n",
       "Num_Bedrooms        500.0       2.958000       1.440968       1.000000   \n",
       "Num_Bathrooms       500.0       1.976000       0.820225       1.000000   \n",
       "Num_Floors          500.0       1.964000       0.802491       1.000000   \n",
       "Year_Built          500.0    1957.604000      35.491781    1900.000000   \n",
       "Has_Garden          500.0       0.536000       0.499202       0.000000   \n",
       "Has_Pool            500.0       0.492000       0.500437       0.000000   \n",
       "Garage_Size         500.0      30.174000      11.582575      10.000000   \n",
       "Location_Score      500.0       5.164410       2.853489       0.004428   \n",
       "Distance_to_Center  500.0      10.469641       5.588197       0.062818   \n",
       "Price               500.0  582209.629529  122273.390345  276892.470136   \n",
       "\n",
       "                              25%            50%            75%            max  \n",
       "ID                     125.750000     250.500000     375.250000     500.000000  \n",
       "Square_Feet            110.319923     178.290937     239.031220     298.241199  \n",
       "Num_Bedrooms             2.000000       3.000000       4.000000       5.000000  \n",
       "Num_Bathrooms            1.000000       2.000000       3.000000       3.000000  \n",
       "Num_Floors               1.000000       2.000000       3.000000       3.000000  \n",
       "Year_Built            1926.000000    1959.000000    1988.000000    2022.000000  \n",
       "Has_Garden               0.000000       1.000000       1.000000       1.000000  \n",
       "Has_Pool                 0.000000       0.000000       1.000000       1.000000  \n",
       "Garage_Size             20.000000      30.000000      41.000000      49.000000  \n",
       "Location_Score           2.760650       5.206518       7.732933       9.995439  \n",
       "Distance_to_Center       6.066754      10.886066      15.072590      19.927966  \n",
       "Price               503080.344140  574724.113347  665942.301274  960678.274291  "
      ]
     },
     "execution_count": 8,
     "metadata": {},
     "output_type": "execute_result"
    }
   ],
   "source": [
    "df.describe().T"
   ]
  },
  {
   "cell_type": "code",
   "execution_count": 9,
   "metadata": {
    "colab": {
     "base_uri": "https://localhost:8080/"
    },
    "id": "87-tx0cI_IJq",
    "outputId": "48894c60-ddd4-4693-f186-dceb29e08af4"
   },
   "outputs": [
    {
     "data": {
      "text/plain": [
       "(500, 12)"
      ]
     },
     "execution_count": 9,
     "metadata": {},
     "output_type": "execute_result"
    }
   ],
   "source": [
    "df.shape"
   ]
  },
  {
   "cell_type": "code",
   "execution_count": 10,
   "metadata": {},
   "outputs": [],
   "source": [
    "#summerizing stats"
   ]
  },
  {
   "cell_type": "code",
   "execution_count": 11,
   "metadata": {
    "colab": {
     "base_uri": "https://localhost:8080/"
    },
    "id": "NDyXQH3V_kxK",
    "outputId": "a5c0fc56-f252-4c9e-f7c2-b56a1ac0b5cb"
   },
   "outputs": [
    {
     "name": "stdout",
     "output_type": "stream",
     "text": [
      "<class 'pandas.core.frame.DataFrame'>\n",
      "RangeIndex: 500 entries, 0 to 499\n",
      "Data columns (total 12 columns):\n",
      " #   Column              Non-Null Count  Dtype  \n",
      "---  ------              --------------  -----  \n",
      " 0   ID                  500 non-null    int64  \n",
      " 1   Square_Feet         500 non-null    float64\n",
      " 2   Num_Bedrooms        500 non-null    int64  \n",
      " 3   Num_Bathrooms       500 non-null    int64  \n",
      " 4   Num_Floors          500 non-null    int64  \n",
      " 5   Year_Built          500 non-null    int64  \n",
      " 6   Has_Garden          500 non-null    int64  \n",
      " 7   Has_Pool            500 non-null    int64  \n",
      " 8   Garage_Size         500 non-null    int64  \n",
      " 9   Location_Score      500 non-null    float64\n",
      " 10  Distance_to_Center  500 non-null    float64\n",
      " 11  Price               500 non-null    float64\n",
      "dtypes: float64(4), int64(8)\n",
      "memory usage: 47.0 KB\n"
     ]
    }
   ],
   "source": [
    "df.info()"
   ]
  },
  {
   "cell_type": "code",
   "execution_count": 12,
   "metadata": {
    "colab": {
     "base_uri": "https://localhost:8080/",
     "height": 366
    },
    "id": "t9-LwXMzAL9T",
    "outputId": "52d4da99-e3b0-4470-9bf2-187d285ba1ff"
   },
   "outputs": [
    {
     "data": {
      "text/plain": [
       "ID                    0\n",
       "Square_Feet           0\n",
       "Num_Bedrooms          0\n",
       "Num_Bathrooms         0\n",
       "Num_Floors            0\n",
       "Year_Built            0\n",
       "Has_Garden            0\n",
       "Has_Pool              0\n",
       "Garage_Size           0\n",
       "Location_Score        0\n",
       "Distance_to_Center    0\n",
       "Price                 0\n",
       "dtype: int64"
      ]
     },
     "execution_count": 12,
     "metadata": {},
     "output_type": "execute_result"
    }
   ],
   "source": [
    "df.isnull().sum()"
   ]
  },
  {
   "cell_type": "code",
   "execution_count": 13,
   "metadata": {
    "colab": {
     "base_uri": "https://localhost:8080/",
     "height": 332
    },
    "id": "CZ_eke1_AL5T",
    "outputId": "30bcaa61-a6c4-4e60-9d3e-3f52b9fec7d0"
   },
   "outputs": [
    {
     "data": {
      "text/html": [
       "<div>\n",
       "<style scoped>\n",
       "    .dataframe tbody tr th:only-of-type {\n",
       "        vertical-align: middle;\n",
       "    }\n",
       "\n",
       "    .dataframe tbody tr th {\n",
       "        vertical-align: top;\n",
       "    }\n",
       "\n",
       "    .dataframe thead th {\n",
       "        text-align: right;\n",
       "    }\n",
       "</style>\n",
       "<table border=\"1\" class=\"dataframe\">\n",
       "  <thead>\n",
       "    <tr style=\"text-align: right;\">\n",
       "      <th></th>\n",
       "      <th>ID</th>\n",
       "      <th>Square_Feet</th>\n",
       "      <th>Num_Bedrooms</th>\n",
       "      <th>Num_Bathrooms</th>\n",
       "      <th>Num_Floors</th>\n",
       "      <th>Year_Built</th>\n",
       "      <th>Has_Garden</th>\n",
       "      <th>Has_Pool</th>\n",
       "      <th>Garage_Size</th>\n",
       "      <th>Location_Score</th>\n",
       "      <th>Distance_to_Center</th>\n",
       "      <th>Price</th>\n",
       "    </tr>\n",
       "  </thead>\n",
       "  <tbody>\n",
       "    <tr>\n",
       "      <th>ID</th>\n",
       "      <td>1.000000</td>\n",
       "      <td>0.051102</td>\n",
       "      <td>0.014511</td>\n",
       "      <td>0.027395</td>\n",
       "      <td>-0.006343</td>\n",
       "      <td>0.028548</td>\n",
       "      <td>-0.005307</td>\n",
       "      <td>-0.076580</td>\n",
       "      <td>-0.000137</td>\n",
       "      <td>-0.045071</td>\n",
       "      <td>-0.006751</td>\n",
       "      <td>0.031774</td>\n",
       "    </tr>\n",
       "    <tr>\n",
       "      <th>Square_Feet</th>\n",
       "      <td>0.051102</td>\n",
       "      <td>1.000000</td>\n",
       "      <td>-0.049918</td>\n",
       "      <td>-0.001667</td>\n",
       "      <td>0.056873</td>\n",
       "      <td>-0.055062</td>\n",
       "      <td>-0.000978</td>\n",
       "      <td>0.007530</td>\n",
       "      <td>-0.051598</td>\n",
       "      <td>-0.035270</td>\n",
       "      <td>0.093080</td>\n",
       "      <td>0.558604</td>\n",
       "    </tr>\n",
       "    <tr>\n",
       "      <th>Num_Bedrooms</th>\n",
       "      <td>0.014511</td>\n",
       "      <td>-0.049918</td>\n",
       "      <td>1.000000</td>\n",
       "      <td>-0.056808</td>\n",
       "      <td>0.009088</td>\n",
       "      <td>0.031806</td>\n",
       "      <td>0.017429</td>\n",
       "      <td>0.012039</td>\n",
       "      <td>-0.065481</td>\n",
       "      <td>-0.000357</td>\n",
       "      <td>0.040511</td>\n",
       "      <td>0.563973</td>\n",
       "    </tr>\n",
       "    <tr>\n",
       "      <th>Num_Bathrooms</th>\n",
       "      <td>0.027395</td>\n",
       "      <td>-0.001667</td>\n",
       "      <td>-0.056808</td>\n",
       "      <td>1.000000</td>\n",
       "      <td>-0.040895</td>\n",
       "      <td>-0.013407</td>\n",
       "      <td>-0.037040</td>\n",
       "      <td>-0.024880</td>\n",
       "      <td>0.055707</td>\n",
       "      <td>-0.013855</td>\n",
       "      <td>-0.082571</td>\n",
       "      <td>0.156689</td>\n",
       "    </tr>\n",
       "    <tr>\n",
       "      <th>Num_Floors</th>\n",
       "      <td>-0.006343</td>\n",
       "      <td>0.056873</td>\n",
       "      <td>0.009088</td>\n",
       "      <td>-0.040895</td>\n",
       "      <td>1.000000</td>\n",
       "      <td>0.046922</td>\n",
       "      <td>0.033256</td>\n",
       "      <td>-0.045630</td>\n",
       "      <td>-0.082763</td>\n",
       "      <td>0.019928</td>\n",
       "      <td>0.035164</td>\n",
       "      <td>0.177435</td>\n",
       "    </tr>\n",
       "    <tr>\n",
       "      <th>Year_Built</th>\n",
       "      <td>0.028548</td>\n",
       "      <td>-0.055062</td>\n",
       "      <td>0.031806</td>\n",
       "      <td>-0.013407</td>\n",
       "      <td>0.046922</td>\n",
       "      <td>1.000000</td>\n",
       "      <td>0.000693</td>\n",
       "      <td>-0.065056</td>\n",
       "      <td>-0.008105</td>\n",
       "      <td>0.009614</td>\n",
       "      <td>-0.015113</td>\n",
       "      <td>0.418293</td>\n",
       "    </tr>\n",
       "    <tr>\n",
       "      <th>Has_Garden</th>\n",
       "      <td>-0.005307</td>\n",
       "      <td>-0.000978</td>\n",
       "      <td>0.017429</td>\n",
       "      <td>-0.037040</td>\n",
       "      <td>0.033256</td>\n",
       "      <td>0.000693</td>\n",
       "      <td>1.000000</td>\n",
       "      <td>-0.087085</td>\n",
       "      <td>-0.037998</td>\n",
       "      <td>0.019130</td>\n",
       "      <td>0.040305</td>\n",
       "      <td>0.109196</td>\n",
       "    </tr>\n",
       "    <tr>\n",
       "      <th>Has_Pool</th>\n",
       "      <td>-0.076580</td>\n",
       "      <td>0.007530</td>\n",
       "      <td>0.012039</td>\n",
       "      <td>-0.024880</td>\n",
       "      <td>-0.045630</td>\n",
       "      <td>-0.065056</td>\n",
       "      <td>-0.087085</td>\n",
       "      <td>1.000000</td>\n",
       "      <td>0.011477</td>\n",
       "      <td>-0.088722</td>\n",
       "      <td>0.110382</td>\n",
       "      <td>0.136579</td>\n",
       "    </tr>\n",
       "    <tr>\n",
       "      <th>Garage_Size</th>\n",
       "      <td>-0.000137</td>\n",
       "      <td>-0.051598</td>\n",
       "      <td>-0.065481</td>\n",
       "      <td>0.055707</td>\n",
       "      <td>-0.082763</td>\n",
       "      <td>-0.008105</td>\n",
       "      <td>-0.037998</td>\n",
       "      <td>0.011477</td>\n",
       "      <td>1.000000</td>\n",
       "      <td>-0.029939</td>\n",
       "      <td>-0.061407</td>\n",
       "      <td>0.032100</td>\n",
       "    </tr>\n",
       "    <tr>\n",
       "      <th>Location_Score</th>\n",
       "      <td>-0.045071</td>\n",
       "      <td>-0.035270</td>\n",
       "      <td>-0.000357</td>\n",
       "      <td>-0.013855</td>\n",
       "      <td>0.019928</td>\n",
       "      <td>0.009614</td>\n",
       "      <td>0.019130</td>\n",
       "      <td>-0.088722</td>\n",
       "      <td>-0.029939</td>\n",
       "      <td>1.000000</td>\n",
       "      <td>0.054446</td>\n",
       "      <td>0.071326</td>\n",
       "    </tr>\n",
       "    <tr>\n",
       "      <th>Distance_to_Center</th>\n",
       "      <td>-0.006751</td>\n",
       "      <td>0.093080</td>\n",
       "      <td>0.040511</td>\n",
       "      <td>-0.082571</td>\n",
       "      <td>0.035164</td>\n",
       "      <td>-0.015113</td>\n",
       "      <td>0.040305</td>\n",
       "      <td>0.110382</td>\n",
       "      <td>-0.061407</td>\n",
       "      <td>0.054446</td>\n",
       "      <td>1.000000</td>\n",
       "      <td>0.000730</td>\n",
       "    </tr>\n",
       "    <tr>\n",
       "      <th>Price</th>\n",
       "      <td>0.031774</td>\n",
       "      <td>0.558604</td>\n",
       "      <td>0.563973</td>\n",
       "      <td>0.156689</td>\n",
       "      <td>0.177435</td>\n",
       "      <td>0.418293</td>\n",
       "      <td>0.109196</td>\n",
       "      <td>0.136579</td>\n",
       "      <td>0.032100</td>\n",
       "      <td>0.071326</td>\n",
       "      <td>0.000730</td>\n",
       "      <td>1.000000</td>\n",
       "    </tr>\n",
       "  </tbody>\n",
       "</table>\n",
       "</div>"
      ],
      "text/plain": [
       "                          ID  Square_Feet  Num_Bedrooms  Num_Bathrooms  \\\n",
       "ID                  1.000000     0.051102      0.014511       0.027395   \n",
       "Square_Feet         0.051102     1.000000     -0.049918      -0.001667   \n",
       "Num_Bedrooms        0.014511    -0.049918      1.000000      -0.056808   \n",
       "Num_Bathrooms       0.027395    -0.001667     -0.056808       1.000000   \n",
       "Num_Floors         -0.006343     0.056873      0.009088      -0.040895   \n",
       "Year_Built          0.028548    -0.055062      0.031806      -0.013407   \n",
       "Has_Garden         -0.005307    -0.000978      0.017429      -0.037040   \n",
       "Has_Pool           -0.076580     0.007530      0.012039      -0.024880   \n",
       "Garage_Size        -0.000137    -0.051598     -0.065481       0.055707   \n",
       "Location_Score     -0.045071    -0.035270     -0.000357      -0.013855   \n",
       "Distance_to_Center -0.006751     0.093080      0.040511      -0.082571   \n",
       "Price               0.031774     0.558604      0.563973       0.156689   \n",
       "\n",
       "                    Num_Floors  Year_Built  Has_Garden  Has_Pool  Garage_Size  \\\n",
       "ID                   -0.006343    0.028548   -0.005307 -0.076580    -0.000137   \n",
       "Square_Feet           0.056873   -0.055062   -0.000978  0.007530    -0.051598   \n",
       "Num_Bedrooms          0.009088    0.031806    0.017429  0.012039    -0.065481   \n",
       "Num_Bathrooms        -0.040895   -0.013407   -0.037040 -0.024880     0.055707   \n",
       "Num_Floors            1.000000    0.046922    0.033256 -0.045630    -0.082763   \n",
       "Year_Built            0.046922    1.000000    0.000693 -0.065056    -0.008105   \n",
       "Has_Garden            0.033256    0.000693    1.000000 -0.087085    -0.037998   \n",
       "Has_Pool             -0.045630   -0.065056   -0.087085  1.000000     0.011477   \n",
       "Garage_Size          -0.082763   -0.008105   -0.037998  0.011477     1.000000   \n",
       "Location_Score        0.019928    0.009614    0.019130 -0.088722    -0.029939   \n",
       "Distance_to_Center    0.035164   -0.015113    0.040305  0.110382    -0.061407   \n",
       "Price                 0.177435    0.418293    0.109196  0.136579     0.032100   \n",
       "\n",
       "                    Location_Score  Distance_to_Center     Price  \n",
       "ID                       -0.045071           -0.006751  0.031774  \n",
       "Square_Feet              -0.035270            0.093080  0.558604  \n",
       "Num_Bedrooms             -0.000357            0.040511  0.563973  \n",
       "Num_Bathrooms            -0.013855           -0.082571  0.156689  \n",
       "Num_Floors                0.019928            0.035164  0.177435  \n",
       "Year_Built                0.009614           -0.015113  0.418293  \n",
       "Has_Garden                0.019130            0.040305  0.109196  \n",
       "Has_Pool                 -0.088722            0.110382  0.136579  \n",
       "Garage_Size              -0.029939           -0.061407  0.032100  \n",
       "Location_Score            1.000000            0.054446  0.071326  \n",
       "Distance_to_Center        0.054446            1.000000  0.000730  \n",
       "Price                     0.071326            0.000730  1.000000  "
      ]
     },
     "execution_count": 13,
     "metadata": {},
     "output_type": "execute_result"
    }
   ],
   "source": [
    "##exploratory data analysis\n",
    "##correlation\n",
    "df.corr()"
   ]
  },
  {
   "cell_type": "code",
   "execution_count": 14,
   "metadata": {},
   "outputs": [
    {
     "data": {
      "text/plain": [
       "Index(['ID', 'Square_Feet', 'Num_Bedrooms', 'Num_Bathrooms', 'Num_Floors',\n",
       "       'Year_Built', 'Has_Garden', 'Has_Pool', 'Garage_Size', 'Location_Score',\n",
       "       'Distance_to_Center', 'Price'],\n",
       "      dtype='object')"
      ]
     },
     "execution_count": 14,
     "metadata": {},
     "output_type": "execute_result"
    }
   ],
   "source": [
    "df.keys()"
   ]
  },
  {
   "cell_type": "code",
   "execution_count": 15,
   "metadata": {
    "colab": {
     "base_uri": "https://localhost:8080/",
     "height": 466
    },
    "id": "IBDZ7sDx_w3g",
    "outputId": "aa63f94d-c752-407f-be74-382120c46b69"
   },
   "outputs": [
    {
     "data": {
      "image/png": "[encoded data removed]",
      "text/plain": [
       "<Figure size 640x480 with 1 Axes>"
      ]
     },
     "metadata": {},
     "output_type": "display_data"
    }
   ],
   "source": [
    "sns.histplot(x='Year_Built',data=df,kde=True,bins=2)\n",
    "plt.xticks(rotation=90)\n",
    "plt.show()"
   ]
  },
  {
   "cell_type": "code",
   "execution_count": 16,
   "metadata": {},
   "outputs": [
    {
     "data": {
      "image/png": "[encoded data removed]",
      "text/plain": [
       "<Figure size 640x480 with 1 Axes>"
      ]
     },
     "metadata": {},
     "output_type": "display_data"
    }
   ],
   "source": [
    "sns.countplot(x='Num_Bedrooms',hue='Has_Garden',palette='pastel', data=df)\n",
    "plt.show()"
   ]
  },
  {
   "cell_type": "code",
   "execution_count": 20,
   "metadata": {},
   "outputs": [
    {
     "name": "stderr",
     "output_type": "stream",
     "text": [
      "C:\\Users\\snehal devkar\\AppData\\Local\\Temp\\ipykernel_17980\\538338909.py:1: FutureWarning: \n",
      "\n",
      "Passing `palette` without assigning `hue` is deprecated and will be removed in v0.14.0. Assign the `x` variable to `hue` and set `legend=False` for the same effect.\n",
      "\n",
      "  sns.countplot(x='Has_Garden', data=df,palette='viridis')\n"
     ]
    },
    {
     "data": {
      "image/png": "[encoded data removed]",
      "text/plain": [
       "<Figure size 640x480 with 1 Axes>"
      ]
     },
     "metadata": {},
     "output_type": "display_data"
    }
   ],
   "source": [
    "sns.countplot(x='Has_Garden', data=df,palette='viridis')\n",
    "plt.show()"
   ]
  },
  {
   "cell_type": "code",
   "execution_count": 22,
   "metadata": {},
   "outputs": [
    {
     "data": {
      "image/png": "[encoded data removed]",
      "text/plain": [
       "<Figure size 640x480 with 1 Axes>"
      ]
     },
     "metadata": {},
     "output_type": "display_data"
    }
   ],
   "source": [
    "sns.regplot(x='Square_Feet',y='Price', data=df,color='lightblue')\n",
    "plt.show()"
   ]
  },
  {
   "cell_type": "code",
   "execution_count": 23,
   "metadata": {},
   "outputs": [
    {
     "data": {
      "image/png": "[encoded data removed]",
      "text/plain": [
       "<Figure size 640x480 with 1 Axes>"
      ]
     },
     "metadata": {},
     "output_type": "display_data"
    }
   ],
   "source": [
    "sns.regplot(x='Has_Garden',y='Price', data=df,color='lightblue')\n",
    "plt.show()"
   ]
  },
  {
   "cell_type": "code",
   "execution_count": 25,
   "metadata": {},
   "outputs": [
    {
     "data": {
      "image/png": "[encoded data removed]",
      "text/plain": [
       "<Figure size 640x480 with 1 Axes>"
      ]
     },
     "metadata": {},
     "output_type": "display_data"
    }
   ],
   "source": [
    "sns.regplot(x='Num_Floors',y='Price', data=df,color='lightblue')\n",
    "plt.show()"
   ]
  },
  {
   "cell_type": "code",
   "execution_count": 26,
   "metadata": {},
   "outputs": [
    {
     "data": {
      "text/plain": [
       "<Axes: ylabel='count'>"
      ]
     },
     "execution_count": 26,
     "metadata": {},
     "output_type": "execute_result"
    },
    {
     "data": {
      "image/png": "[encoded data removed]",
      "text/plain": [
       "<Figure size 640x480 with 1 Axes>"
      ]
     },
     "metadata": {},
     "output_type": "display_data"
    }
   ],
   "source": [
    "df['Has_Garden'].value_counts().plot.pie(autopct='%1.1f%%', colors=['lightcoral', 'lightgreen'], explode=(0, 0.1), startangle=90)"
   ]
  },
  {
   "cell_type": "code",
   "execution_count": 65,
   "metadata": {
    "colab": {
     "base_uri": "https://localhost:8080/",
     "height": 1000
    },
    "id": "mydUgliL881s",
    "outputId": "a72a0d7c-60c2-4e1f-dfe1-a5a20aa07ad0"
   },
   "outputs": [
    {
     "data": {
      "image/png": "[encoded data removed]",
      "text/plain": [
       "<Figure size 640x480 with 1 Axes>"
      ]
     },
     "metadata": {},
     "output_type": "display_data"
    }
   ],
   "source": [
    "sns.countplot(x='Num_Bedrooms', hue='Num_Floors',data=df,palette='viridis')\n",
    "plt.show()"
   ]
  },
  {
   "cell_type": "code",
   "execution_count": 67,
   "metadata": {},
   "outputs": [
    {
     "data": {
      "text/plain": [
       "Index(['ID', 'Square_Feet', 'Num_Bedrooms', 'Num_Bathrooms', 'Num_Floors',\n",
       "       'Year_Built', 'Has_Garden', 'Has_Pool', 'Garage_Size', 'Location_Score',\n",
       "       'Distance_to_Center', 'Price'],\n",
       "      dtype='object')"
      ]
     },
     "execution_count": 67,
     "metadata": {},
     "output_type": "execute_result"
    }
   ],
   "source": [
    "df.keys()"
   ]
  },
  {
   "cell_type": "code",
   "execution_count": 70,
   "metadata": {},
   "outputs": [
    {
     "data": {
      "image/png": "[encoded data removed]",
      "text/plain": [
       "<Figure size 640x480 with 1 Axes>"
      ]
     },
     "metadata": {},
     "output_type": "display_data"
    }
   ],
   "source": [
    "sns.countplot(x='Has_Garden', hue='Num_Floors',data=df,palette='viridis')\n",
    "plt.show()"
   ]
  },
  {
   "cell_type": "markdown",
   "metadata": {
    "id": "tj8yQwwQFJ6h"
   },
   "source": [
    "# Train test split"
   ]
  },
  {
   "cell_type": "code",
   "execution_count": 29,
   "metadata": {
    "id": "3-G9fFO9EKg9"
   },
   "outputs": [],
   "source": [
    "x=df.iloc[:,:-1]\n",
    "y=df.iloc[:,-1]"
   ]
  },
  {
   "cell_type": "code",
   "execution_count": 30,
   "metadata": {
    "colab": {
     "base_uri": "https://localhost:8080/",
     "height": 424
    },
    "id": "XEIiSt-KFgHm",
    "outputId": "1e318f2c-887b-47cd-fa92-6c4d5dc85b48"
   },
   "outputs": [
    {
     "data": {
      "text/html": [
       "<div>\n",
       "<style scoped>\n",
       "    .dataframe tbody tr th:only-of-type {\n",
       "        vertical-align: middle;\n",
       "    }\n",
       "\n",
       "    .dataframe tbody tr th {\n",
       "        vertical-align: top;\n",
       "    }\n",
       "\n",
       "    .dataframe thead th {\n",
       "        text-align: right;\n",
       "    }\n",
       "</style>\n",
       "<table border=\"1\" class=\"dataframe\">\n",
       "  <thead>\n",
       "    <tr style=\"text-align: right;\">\n",
       "      <th></th>\n",
       "      <th>ID</th>\n",
       "      <th>Square_Feet</th>\n",
       "      <th>Num_Bedrooms</th>\n",
       "      <th>Num_Bathrooms</th>\n",
       "      <th>Num_Floors</th>\n",
       "      <th>Year_Built</th>\n",
       "      <th>Has_Garden</th>\n",
       "      <th>Has_Pool</th>\n",
       "      <th>Garage_Size</th>\n",
       "      <th>Location_Score</th>\n",
       "      <th>Distance_to_Center</th>\n",
       "    </tr>\n",
       "  </thead>\n",
       "  <tbody>\n",
       "    <tr>\n",
       "      <th>0</th>\n",
       "      <td>1</td>\n",
       "      <td>143.635030</td>\n",
       "      <td>1</td>\n",
       "      <td>3</td>\n",
       "      <td>3</td>\n",
       "      <td>1967</td>\n",
       "      <td>1</td>\n",
       "      <td>1</td>\n",
       "      <td>48</td>\n",
       "      <td>8.297631</td>\n",
       "      <td>5.935734</td>\n",
       "    </tr>\n",
       "    <tr>\n",
       "      <th>1</th>\n",
       "      <td>2</td>\n",
       "      <td>287.678577</td>\n",
       "      <td>1</td>\n",
       "      <td>2</td>\n",
       "      <td>1</td>\n",
       "      <td>1949</td>\n",
       "      <td>0</td>\n",
       "      <td>1</td>\n",
       "      <td>37</td>\n",
       "      <td>6.061466</td>\n",
       "      <td>10.827392</td>\n",
       "    </tr>\n",
       "    <tr>\n",
       "      <th>2</th>\n",
       "      <td>3</td>\n",
       "      <td>232.998485</td>\n",
       "      <td>1</td>\n",
       "      <td>3</td>\n",
       "      <td>2</td>\n",
       "      <td>1923</td>\n",
       "      <td>1</td>\n",
       "      <td>0</td>\n",
       "      <td>14</td>\n",
       "      <td>2.911442</td>\n",
       "      <td>6.904599</td>\n",
       "    </tr>\n",
       "    <tr>\n",
       "      <th>3</th>\n",
       "      <td>4</td>\n",
       "      <td>199.664621</td>\n",
       "      <td>5</td>\n",
       "      <td>2</td>\n",
       "      <td>2</td>\n",
       "      <td>1918</td>\n",
       "      <td>0</td>\n",
       "      <td>0</td>\n",
       "      <td>17</td>\n",
       "      <td>2.070949</td>\n",
       "      <td>8.284019</td>\n",
       "    </tr>\n",
       "    <tr>\n",
       "      <th>4</th>\n",
       "      <td>5</td>\n",
       "      <td>89.004660</td>\n",
       "      <td>4</td>\n",
       "      <td>3</td>\n",
       "      <td>3</td>\n",
       "      <td>1999</td>\n",
       "      <td>1</td>\n",
       "      <td>0</td>\n",
       "      <td>34</td>\n",
       "      <td>1.523278</td>\n",
       "      <td>14.648277</td>\n",
       "    </tr>\n",
       "    <tr>\n",
       "      <th>...</th>\n",
       "      <td>...</td>\n",
       "      <td>...</td>\n",
       "      <td>...</td>\n",
       "      <td>...</td>\n",
       "      <td>...</td>\n",
       "      <td>...</td>\n",
       "      <td>...</td>\n",
       "      <td>...</td>\n",
       "      <td>...</td>\n",
       "      <td>...</td>\n",
       "      <td>...</td>\n",
       "    </tr>\n",
       "    <tr>\n",
       "      <th>495</th>\n",
       "      <td>496</td>\n",
       "      <td>138.338057</td>\n",
       "      <td>2</td>\n",
       "      <td>2</td>\n",
       "      <td>2</td>\n",
       "      <td>1967</td>\n",
       "      <td>1</td>\n",
       "      <td>0</td>\n",
       "      <td>16</td>\n",
       "      <td>4.296086</td>\n",
       "      <td>5.562583</td>\n",
       "    </tr>\n",
       "    <tr>\n",
       "      <th>496</th>\n",
       "      <td>497</td>\n",
       "      <td>195.914028</td>\n",
       "      <td>2</td>\n",
       "      <td>3</td>\n",
       "      <td>1</td>\n",
       "      <td>1977</td>\n",
       "      <td>0</td>\n",
       "      <td>1</td>\n",
       "      <td>45</td>\n",
       "      <td>7.406261</td>\n",
       "      <td>2.845105</td>\n",
       "    </tr>\n",
       "    <tr>\n",
       "      <th>497</th>\n",
       "      <td>498</td>\n",
       "      <td>69.433659</td>\n",
       "      <td>1</td>\n",
       "      <td>1</td>\n",
       "      <td>2</td>\n",
       "      <td>2004</td>\n",
       "      <td>0</td>\n",
       "      <td>0</td>\n",
       "      <td>18</td>\n",
       "      <td>8.629724</td>\n",
       "      <td>6.263264</td>\n",
       "    </tr>\n",
       "    <tr>\n",
       "      <th>498</th>\n",
       "      <td>499</td>\n",
       "      <td>293.598702</td>\n",
       "      <td>5</td>\n",
       "      <td>1</td>\n",
       "      <td>3</td>\n",
       "      <td>1940</td>\n",
       "      <td>1</td>\n",
       "      <td>0</td>\n",
       "      <td>41</td>\n",
       "      <td>5.318891</td>\n",
       "      <td>16.990684</td>\n",
       "    </tr>\n",
       "    <tr>\n",
       "      <th>499</th>\n",
       "      <td>500</td>\n",
       "      <td>296.552686</td>\n",
       "      <td>4</td>\n",
       "      <td>3</td>\n",
       "      <td>1</td>\n",
       "      <td>1988</td>\n",
       "      <td>1</td>\n",
       "      <td>1</td>\n",
       "      <td>20</td>\n",
       "      <td>7.894322</td>\n",
       "      <td>1.779794</td>\n",
       "    </tr>\n",
       "  </tbody>\n",
       "</table>\n",
       "<p>500 rows × 11 columns</p>\n",
       "</div>"
      ],
      "text/plain": [
       "      ID  Square_Feet  Num_Bedrooms  Num_Bathrooms  Num_Floors  Year_Built  \\\n",
       "0      1   143.635030             1              3           3        1967   \n",
       "1      2   287.678577             1              2           1        1949   \n",
       "2      3   232.998485             1              3           2        1923   \n",
       "3      4   199.664621             5              2           2        1918   \n",
       "4      5    89.004660             4              3           3        1999   \n",
       "..   ...          ...           ...            ...         ...         ...   \n",
       "495  496   138.338057             2              2           2        1967   \n",
       "496  497   195.914028             2              3           1        1977   \n",
       "497  498    69.433659             1              1           2        2004   \n",
       "498  499   293.598702             5              1           3        1940   \n",
       "499  500   296.552686             4              3           1        1988   \n",
       "\n",
       "     Has_Garden  Has_Pool  Garage_Size  Location_Score  Distance_to_Center  \n",
       "0             1         1           48        8.297631            5.935734  \n",
       "1             0         1           37        6.061466           10.827392  \n",
       "2             1         0           14        2.911442            6.904599  \n",
       "3             0         0           17        2.070949            8.284019  \n",
       "4             1         0           34        1.523278           14.648277  \n",
       "..          ...       ...          ...             ...                 ...  \n",
       "495           1         0           16        4.296086            5.562583  \n",
       "496           0         1           45        7.406261            2.845105  \n",
       "497           0         0           18        8.629724            6.263264  \n",
       "498           1         0           41        5.318891           16.990684  \n",
       "499           1         1           20        7.894322            1.779794  \n",
       "\n",
       "[500 rows x 11 columns]"
      ]
     },
     "execution_count": 30,
     "metadata": {},
     "output_type": "execute_result"
    }
   ],
   "source": [
    "x"
   ]
  },
  {
   "cell_type": "code",
   "execution_count": 31,
   "metadata": {
    "id": "inN-s4LYsZnH"
   },
   "outputs": [],
   "source": [
    "from sklearn.model_selection import train_test_split\n",
    "x_train,x_test,y_train,y_test=train_test_split(x,y,test_size=0.3,random_state=1)"
   ]
  },
  {
   "cell_type": "code",
   "execution_count": 32,
   "metadata": {
    "colab": {
     "base_uri": "https://localhost:8080/",
     "height": 458
    },
    "id": "-OR32CMUsZjv",
    "outputId": "53efb09b-9f55-4980-d5a3-104db39960fb"
   },
   "outputs": [
    {
     "data": {
      "text/plain": [
       "13     658652.789252\n",
       "61     525144.745003\n",
       "298    569543.904468\n",
       "39     690863.198892\n",
       "360    733677.917779\n",
       "           ...      \n",
       "255    705130.398039\n",
       "72     479576.532003\n",
       "396    842272.539088\n",
       "235    614845.566895\n",
       "37     493819.272484\n",
       "Name: Price, Length: 350, dtype: float64"
      ]
     },
     "execution_count": 32,
     "metadata": {},
     "output_type": "execute_result"
    }
   ],
   "source": [
    "y_train"
   ]
  },
  {
   "cell_type": "code",
   "execution_count": 33,
   "metadata": {
    "colab": {
     "base_uri": "https://localhost:8080/",
     "height": 424
    },
    "id": "eigxJH_tJ5gp",
    "outputId": "dea26060-b16d-437c-c41e-446bbdbbb699"
   },
   "outputs": [
    {
     "data": {
      "text/html": [
       "<div>\n",
       "<style scoped>\n",
       "    .dataframe tbody tr th:only-of-type {\n",
       "        vertical-align: middle;\n",
       "    }\n",
       "\n",
       "    .dataframe tbody tr th {\n",
       "        vertical-align: top;\n",
       "    }\n",
       "\n",
       "    .dataframe thead th {\n",
       "        text-align: right;\n",
       "    }\n",
       "</style>\n",
       "<table border=\"1\" class=\"dataframe\">\n",
       "  <thead>\n",
       "    <tr style=\"text-align: right;\">\n",
       "      <th></th>\n",
       "      <th>ID</th>\n",
       "      <th>Square_Feet</th>\n",
       "      <th>Num_Bedrooms</th>\n",
       "      <th>Num_Bathrooms</th>\n",
       "      <th>Num_Floors</th>\n",
       "      <th>Year_Built</th>\n",
       "      <th>Has_Garden</th>\n",
       "      <th>Has_Pool</th>\n",
       "      <th>Garage_Size</th>\n",
       "      <th>Location_Score</th>\n",
       "      <th>Distance_to_Center</th>\n",
       "    </tr>\n",
       "  </thead>\n",
       "  <tbody>\n",
       "    <tr>\n",
       "      <th>13</th>\n",
       "      <td>14</td>\n",
       "      <td>103.084778</td>\n",
       "      <td>5</td>\n",
       "      <td>1</td>\n",
       "      <td>2</td>\n",
       "      <td>1996</td>\n",
       "      <td>0</td>\n",
       "      <td>1</td>\n",
       "      <td>13</td>\n",
       "      <td>9.902089</td>\n",
       "      <td>4.874590</td>\n",
       "    </tr>\n",
       "    <tr>\n",
       "      <th>61</th>\n",
       "      <td>62</td>\n",
       "      <td>117.837258</td>\n",
       "      <td>2</td>\n",
       "      <td>2</td>\n",
       "      <td>1</td>\n",
       "      <td>2001</td>\n",
       "      <td>0</td>\n",
       "      <td>1</td>\n",
       "      <td>32</td>\n",
       "      <td>1.369991</td>\n",
       "      <td>16.411975</td>\n",
       "    </tr>\n",
       "    <tr>\n",
       "      <th>298</th>\n",
       "      <td>299</td>\n",
       "      <td>205.722619</td>\n",
       "      <td>2</td>\n",
       "      <td>1</td>\n",
       "      <td>3</td>\n",
       "      <td>1978</td>\n",
       "      <td>0</td>\n",
       "      <td>1</td>\n",
       "      <td>43</td>\n",
       "      <td>2.471316</td>\n",
       "      <td>8.324361</td>\n",
       "    </tr>\n",
       "    <tr>\n",
       "      <th>39</th>\n",
       "      <td>40</td>\n",
       "      <td>160.038123</td>\n",
       "      <td>4</td>\n",
       "      <td>2</td>\n",
       "      <td>3</td>\n",
       "      <td>1956</td>\n",
       "      <td>1</td>\n",
       "      <td>1</td>\n",
       "      <td>12</td>\n",
       "      <td>6.900966</td>\n",
       "      <td>13.577955</td>\n",
       "    </tr>\n",
       "    <tr>\n",
       "      <th>360</th>\n",
       "      <td>361</td>\n",
       "      <td>147.042482</td>\n",
       "      <td>5</td>\n",
       "      <td>1</td>\n",
       "      <td>3</td>\n",
       "      <td>1984</td>\n",
       "      <td>1</td>\n",
       "      <td>0</td>\n",
       "      <td>38</td>\n",
       "      <td>9.390571</td>\n",
       "      <td>13.740783</td>\n",
       "    </tr>\n",
       "    <tr>\n",
       "      <th>...</th>\n",
       "      <td>...</td>\n",
       "      <td>...</td>\n",
       "      <td>...</td>\n",
       "      <td>...</td>\n",
       "      <td>...</td>\n",
       "      <td>...</td>\n",
       "      <td>...</td>\n",
       "      <td>...</td>\n",
       "      <td>...</td>\n",
       "      <td>...</td>\n",
       "      <td>...</td>\n",
       "    </tr>\n",
       "    <tr>\n",
       "      <th>255</th>\n",
       "      <td>256</td>\n",
       "      <td>189.200316</td>\n",
       "      <td>4</td>\n",
       "      <td>1</td>\n",
       "      <td>3</td>\n",
       "      <td>2016</td>\n",
       "      <td>1</td>\n",
       "      <td>0</td>\n",
       "      <td>10</td>\n",
       "      <td>7.821713</td>\n",
       "      <td>13.714011</td>\n",
       "    </tr>\n",
       "    <tr>\n",
       "      <th>72</th>\n",
       "      <td>73</td>\n",
       "      <td>51.380529</td>\n",
       "      <td>5</td>\n",
       "      <td>3</td>\n",
       "      <td>1</td>\n",
       "      <td>1902</td>\n",
       "      <td>1</td>\n",
       "      <td>0</td>\n",
       "      <td>43</td>\n",
       "      <td>2.191175</td>\n",
       "      <td>3.634466</td>\n",
       "    </tr>\n",
       "    <tr>\n",
       "      <th>396</th>\n",
       "      <td>397</td>\n",
       "      <td>264.603188</td>\n",
       "      <td>5</td>\n",
       "      <td>3</td>\n",
       "      <td>2</td>\n",
       "      <td>1941</td>\n",
       "      <td>1</td>\n",
       "      <td>1</td>\n",
       "      <td>39</td>\n",
       "      <td>9.115213</td>\n",
       "      <td>14.589275</td>\n",
       "    </tr>\n",
       "    <tr>\n",
       "      <th>235</th>\n",
       "      <td>236</td>\n",
       "      <td>230.613029</td>\n",
       "      <td>4</td>\n",
       "      <td>2</td>\n",
       "      <td>3</td>\n",
       "      <td>1924</td>\n",
       "      <td>1</td>\n",
       "      <td>0</td>\n",
       "      <td>25</td>\n",
       "      <td>1.251253</td>\n",
       "      <td>12.632870</td>\n",
       "    </tr>\n",
       "    <tr>\n",
       "      <th>37</th>\n",
       "      <td>38</td>\n",
       "      <td>74.418029</td>\n",
       "      <td>1</td>\n",
       "      <td>2</td>\n",
       "      <td>2</td>\n",
       "      <td>1977</td>\n",
       "      <td>1</td>\n",
       "      <td>1</td>\n",
       "      <td>48</td>\n",
       "      <td>0.606289</td>\n",
       "      <td>2.285715</td>\n",
       "    </tr>\n",
       "  </tbody>\n",
       "</table>\n",
       "<p>350 rows × 11 columns</p>\n",
       "</div>"
      ],
      "text/plain": [
       "      ID  Square_Feet  Num_Bedrooms  Num_Bathrooms  Num_Floors  Year_Built  \\\n",
       "13    14   103.084778             5              1           2        1996   \n",
       "61    62   117.837258             2              2           1        2001   \n",
       "298  299   205.722619             2              1           3        1978   \n",
       "39    40   160.038123             4              2           3        1956   \n",
       "360  361   147.042482             5              1           3        1984   \n",
       "..   ...          ...           ...            ...         ...         ...   \n",
       "255  256   189.200316             4              1           3        2016   \n",
       "72    73    51.380529             5              3           1        1902   \n",
       "396  397   264.603188             5              3           2        1941   \n",
       "235  236   230.613029             4              2           3        1924   \n",
       "37    38    74.418029             1              2           2        1977   \n",
       "\n",
       "     Has_Garden  Has_Pool  Garage_Size  Location_Score  Distance_to_Center  \n",
       "13            0         1           13        9.902089            4.874590  \n",
       "61            0         1           32        1.369991           16.411975  \n",
       "298           0         1           43        2.471316            8.324361  \n",
       "39            1         1           12        6.900966           13.577955  \n",
       "360           1         0           38        9.390571           13.740783  \n",
       "..          ...       ...          ...             ...                 ...  \n",
       "255           1         0           10        7.821713           13.714011  \n",
       "72            1         0           43        2.191175            3.634466  \n",
       "396           1         1           39        9.115213           14.589275  \n",
       "235           1         0           25        1.251253           12.632870  \n",
       "37            1         1           48        0.606289            2.285715  \n",
       "\n",
       "[350 rows x 11 columns]"
      ]
     },
     "execution_count": 33,
     "metadata": {},
     "output_type": "execute_result"
    }
   ],
   "source": [
    "x_train"
   ]
  },
  {
   "cell_type": "code",
   "execution_count": 34,
   "metadata": {
    "colab": {
     "base_uri": "https://localhost:8080/",
     "height": 424
    },
    "id": "4l6XzBN2MO9D",
    "outputId": "1b7ddc8c-3025-44e8-9c28-81613342222e"
   },
   "outputs": [
    {
     "data": {
      "text/html": [
       "<div>\n",
       "<style scoped>\n",
       "    .dataframe tbody tr th:only-of-type {\n",
       "        vertical-align: middle;\n",
       "    }\n",
       "\n",
       "    .dataframe tbody tr th {\n",
       "        vertical-align: top;\n",
       "    }\n",
       "\n",
       "    .dataframe thead th {\n",
       "        text-align: right;\n",
       "    }\n",
       "</style>\n",
       "<table border=\"1\" class=\"dataframe\">\n",
       "  <thead>\n",
       "    <tr style=\"text-align: right;\">\n",
       "      <th></th>\n",
       "      <th>ID</th>\n",
       "      <th>Square_Feet</th>\n",
       "      <th>Num_Bedrooms</th>\n",
       "      <th>Num_Bathrooms</th>\n",
       "      <th>Num_Floors</th>\n",
       "      <th>Year_Built</th>\n",
       "      <th>Has_Garden</th>\n",
       "      <th>Has_Pool</th>\n",
       "      <th>Garage_Size</th>\n",
       "      <th>Location_Score</th>\n",
       "      <th>Distance_to_Center</th>\n",
       "    </tr>\n",
       "  </thead>\n",
       "  <tbody>\n",
       "    <tr>\n",
       "      <th>304</th>\n",
       "      <td>305</td>\n",
       "      <td>231.522833</td>\n",
       "      <td>1</td>\n",
       "      <td>2</td>\n",
       "      <td>2</td>\n",
       "      <td>1920</td>\n",
       "      <td>1</td>\n",
       "      <td>0</td>\n",
       "      <td>36</td>\n",
       "      <td>2.054014</td>\n",
       "      <td>8.769134</td>\n",
       "    </tr>\n",
       "    <tr>\n",
       "      <th>340</th>\n",
       "      <td>341</td>\n",
       "      <td>172.903969</td>\n",
       "      <td>4</td>\n",
       "      <td>3</td>\n",
       "      <td>2</td>\n",
       "      <td>2000</td>\n",
       "      <td>1</td>\n",
       "      <td>0</td>\n",
       "      <td>23</td>\n",
       "      <td>4.303747</td>\n",
       "      <td>7.914159</td>\n",
       "    </tr>\n",
       "    <tr>\n",
       "      <th>47</th>\n",
       "      <td>48</td>\n",
       "      <td>180.017005</td>\n",
       "      <td>5</td>\n",
       "      <td>2</td>\n",
       "      <td>1</td>\n",
       "      <td>1966</td>\n",
       "      <td>0</td>\n",
       "      <td>0</td>\n",
       "      <td>25</td>\n",
       "      <td>3.542678</td>\n",
       "      <td>17.712395</td>\n",
       "    </tr>\n",
       "    <tr>\n",
       "      <th>67</th>\n",
       "      <td>68</td>\n",
       "      <td>250.549245</td>\n",
       "      <td>3</td>\n",
       "      <td>3</td>\n",
       "      <td>1</td>\n",
       "      <td>1935</td>\n",
       "      <td>1</td>\n",
       "      <td>0</td>\n",
       "      <td>45</td>\n",
       "      <td>6.365386</td>\n",
       "      <td>0.310167</td>\n",
       "    </tr>\n",
       "    <tr>\n",
       "      <th>479</th>\n",
       "      <td>480</td>\n",
       "      <td>180.774461</td>\n",
       "      <td>3</td>\n",
       "      <td>1</td>\n",
       "      <td>3</td>\n",
       "      <td>2010</td>\n",
       "      <td>0</td>\n",
       "      <td>0</td>\n",
       "      <td>36</td>\n",
       "      <td>0.776408</td>\n",
       "      <td>11.945848</td>\n",
       "    </tr>\n",
       "    <tr>\n",
       "      <th>...</th>\n",
       "      <td>...</td>\n",
       "      <td>...</td>\n",
       "      <td>...</td>\n",
       "      <td>...</td>\n",
       "      <td>...</td>\n",
       "      <td>...</td>\n",
       "      <td>...</td>\n",
       "      <td>...</td>\n",
       "      <td>...</td>\n",
       "      <td>...</td>\n",
       "      <td>...</td>\n",
       "    </tr>\n",
       "    <tr>\n",
       "      <th>331</th>\n",
       "      <td>332</td>\n",
       "      <td>239.461528</td>\n",
       "      <td>2</td>\n",
       "      <td>2</td>\n",
       "      <td>3</td>\n",
       "      <td>1962</td>\n",
       "      <td>0</td>\n",
       "      <td>1</td>\n",
       "      <td>31</td>\n",
       "      <td>7.401614</td>\n",
       "      <td>9.569922</td>\n",
       "    </tr>\n",
       "    <tr>\n",
       "      <th>197</th>\n",
       "      <td>198</td>\n",
       "      <td>274.277565</td>\n",
       "      <td>3</td>\n",
       "      <td>1</td>\n",
       "      <td>1</td>\n",
       "      <td>1914</td>\n",
       "      <td>1</td>\n",
       "      <td>1</td>\n",
       "      <td>45</td>\n",
       "      <td>7.590689</td>\n",
       "      <td>6.243927</td>\n",
       "    </tr>\n",
       "    <tr>\n",
       "      <th>95</th>\n",
       "      <td>96</td>\n",
       "      <td>173.448899</td>\n",
       "      <td>1</td>\n",
       "      <td>3</td>\n",
       "      <td>2</td>\n",
       "      <td>1966</td>\n",
       "      <td>0</td>\n",
       "      <td>0</td>\n",
       "      <td>28</td>\n",
       "      <td>8.552070</td>\n",
       "      <td>16.846510</td>\n",
       "    </tr>\n",
       "    <tr>\n",
       "      <th>122</th>\n",
       "      <td>123</td>\n",
       "      <td>129.500869</td>\n",
       "      <td>5</td>\n",
       "      <td>1</td>\n",
       "      <td>2</td>\n",
       "      <td>1946</td>\n",
       "      <td>1</td>\n",
       "      <td>1</td>\n",
       "      <td>15</td>\n",
       "      <td>0.577029</td>\n",
       "      <td>15.165346</td>\n",
       "    </tr>\n",
       "    <tr>\n",
       "      <th>23</th>\n",
       "      <td>24</td>\n",
       "      <td>141.590461</td>\n",
       "      <td>2</td>\n",
       "      <td>1</td>\n",
       "      <td>3</td>\n",
       "      <td>2018</td>\n",
       "      <td>1</td>\n",
       "      <td>0</td>\n",
       "      <td>42</td>\n",
       "      <td>8.960751</td>\n",
       "      <td>8.237295</td>\n",
       "    </tr>\n",
       "  </tbody>\n",
       "</table>\n",
       "<p>150 rows × 11 columns</p>\n",
       "</div>"
      ],
      "text/plain": [
       "      ID  Square_Feet  Num_Bedrooms  Num_Bathrooms  Num_Floors  Year_Built  \\\n",
       "304  305   231.522833             1              2           2        1920   \n",
       "340  341   172.903969             4              3           2        2000   \n",
       "47    48   180.017005             5              2           1        1966   \n",
       "67    68   250.549245             3              3           1        1935   \n",
       "479  480   180.774461             3              1           3        2010   \n",
       "..   ...          ...           ...            ...         ...         ...   \n",
       "331  332   239.461528             2              2           3        1962   \n",
       "197  198   274.277565             3              1           1        1914   \n",
       "95    96   173.448899             1              3           2        1966   \n",
       "122  123   129.500869             5              1           2        1946   \n",
       "23    24   141.590461             2              1           3        2018   \n",
       "\n",
       "     Has_Garden  Has_Pool  Garage_Size  Location_Score  Distance_to_Center  \n",
       "304           1         0           36        2.054014            8.769134  \n",
       "340           1         0           23        4.303747            7.914159  \n",
       "47            0         0           25        3.542678           17.712395  \n",
       "67            1         0           45        6.365386            0.310167  \n",
       "479           0         0           36        0.776408           11.945848  \n",
       "..          ...       ...          ...             ...                 ...  \n",
       "331           0         1           31        7.401614            9.569922  \n",
       "197           1         1           45        7.590689            6.243927  \n",
       "95            0         0           28        8.552070           16.846510  \n",
       "122           1         1           15        0.577029           15.165346  \n",
       "23            1         0           42        8.960751            8.237295  \n",
       "\n",
       "[150 rows x 11 columns]"
      ]
     },
     "execution_count": 34,
     "metadata": {},
     "output_type": "execute_result"
    }
   ],
   "source": [
    "x_test"
   ]
  },
  {
   "cell_type": "code",
   "execution_count": 35,
   "metadata": {
    "id": "vSPLzvymsZg9"
   },
   "outputs": [],
   "source": [
    "from sklearn.preprocessing import StandardScaler\n",
    "scaler =StandardScaler()"
   ]
  },
  {
   "cell_type": "code",
   "execution_count": 36,
   "metadata": {
    "id": "ETYr88jksZeC"
   },
   "outputs": [],
   "source": [
    "x_train=scaler.fit_transform(x_train)"
   ]
  },
  {
   "cell_type": "code",
   "execution_count": 37,
   "metadata": {
    "id": "oJdy0XZXNEq1"
   },
   "outputs": [],
   "source": [
    "x_test=scaler.transform(x_test)"
   ]
  },
  {
   "cell_type": "code",
   "execution_count": 38,
   "metadata": {
    "id": "lVGWf2sfQ6k6"
   },
   "outputs": [],
   "source": [
    "#y_train=y_train.reshape(0,-1)"
   ]
  },
  {
   "cell_type": "code",
   "execution_count": 39,
   "metadata": {
    "colab": {
     "base_uri": "https://localhost:8080/"
    },
    "id": "ZoGETsocRv5M",
    "outputId": "420f434e-0d9e-4473-8ece-3fdf36acf34b"
   },
   "outputs": [
    {
     "data": {
      "text/plain": [
       "(350,)"
      ]
     },
     "execution_count": 39,
     "metadata": {},
     "output_type": "execute_result"
    }
   ],
   "source": [
    "y_train.shape"
   ]
  },
  {
   "cell_type": "code",
   "execution_count": 40,
   "metadata": {
    "colab": {
     "base_uri": "https://localhost:8080/"
    },
    "id": "vbojt0_asZbX",
    "outputId": "bb8c4262-5d49-401e-e972-dd034d4d5918"
   },
   "outputs": [
    {
     "data": {
      "text/plain": [
       "array([[ 0.42201031,  0.70111982, -1.3239184 , ...,  0.46245575,\n",
       "        -1.08630834, -0.27298659],\n",
       "       [ 0.67274496, -0.07439143,  0.71736548, ..., -0.64734049,\n",
       "        -0.29214556, -0.42400712],\n",
       "       [-1.36795654,  0.01971206,  1.39779344, ..., -0.4766026 ,\n",
       "        -0.56080554,  1.3067274 ],\n",
       "       ...,\n",
       "       [-1.03364367, -0.06718216, -1.3239184 , ..., -0.22049578,\n",
       "         1.20752523,  1.15377973],\n",
       "       [-0.84559268, -0.64860235,  1.39779344, ..., -1.33029202,\n",
       "        -1.60768849,  0.85682332],\n",
       "       [-1.53511298, -0.48866042, -0.64349044, ...,  0.9746694 ,\n",
       "         1.35179097, -0.36692931]], shape=(150, 11))"
      ]
     },
     "execution_count": 40,
     "metadata": {},
     "output_type": "execute_result"
    }
   ],
   "source": [
    "x_test"
   ]
  },
  {
   "cell_type": "code",
   "execution_count": 41,
   "metadata": {
    "colab": {
     "base_uri": "https://localhost:8080/"
    },
    "id": "GgGWqMFRssAr",
    "outputId": "8ef0efa7-6c00-428d-d6bc-1e53f4d51c16"
   },
   "outputs": [
    {
     "data": {
      "text/plain": [
       "array([[-1.6047615 , -0.99807988,  1.39779344, ..., -1.5010299 ,\n",
       "         1.6840861 , -0.96090867],\n",
       "       [-1.27044862, -0.80290868, -0.64349044, ...,  0.12097999,\n",
       "        -1.32777071,  1.07702463],\n",
       "       [ 0.3802212 ,  0.35979017, -0.64349044, ...,  1.06003834,\n",
       "        -0.93899964, -0.35155014],\n",
       "       ...,\n",
       "       [ 1.06277665,  1.13876369,  1.39779344, ...,  0.71856258,\n",
       "         1.40631646,  0.75506776],\n",
       "       [-0.05856445,  0.68908336,  0.71736548, ..., -0.4766026 ,\n",
       "        -1.36968561,  0.40949353],\n",
       "       [-1.43760506, -1.37733299, -1.3239184 , ...,  1.48688305,\n",
       "        -1.59735963, -1.41820057]], shape=(350, 11))"
      ]
     },
     "execution_count": 41,
     "metadata": {},
     "output_type": "execute_result"
    }
   ],
   "source": [
    "x_train"
   ]
  },
  {
   "cell_type": "code",
   "execution_count": 42,
   "metadata": {
    "colab": {
     "base_uri": "https://localhost:8080/",
     "height": 458
    },
    "id": "ni49weDFsuFY",
    "outputId": "f0e8e1b5-d28b-471a-b73a-0e1cbd9f1524"
   },
   "outputs": [
    {
     "data": {
      "text/plain": [
       "13     658652.789252\n",
       "61     525144.745003\n",
       "298    569543.904468\n",
       "39     690863.198892\n",
       "360    733677.917779\n",
       "           ...      \n",
       "255    705130.398039\n",
       "72     479576.532003\n",
       "396    842272.539088\n",
       "235    614845.566895\n",
       "37     493819.272484\n",
       "Name: Price, Length: 350, dtype: float64"
      ]
     },
     "execution_count": 42,
     "metadata": {},
     "output_type": "execute_result"
    }
   ],
   "source": [
    "y_train"
   ]
  },
  {
   "cell_type": "markdown",
   "metadata": {
    "id": "7WWE96BSPG7j"
   },
   "source": [
    "**Model Training***"
   ]
  },
  {
   "cell_type": "code",
   "execution_count": 43,
   "metadata": {
    "id": "ji5eMdXrsZYq"
   },
   "outputs": [],
   "source": [
    "from sklearn.linear_model import LinearRegression\n",
    "\n",
    "regression=LinearRegression()"
   ]
  },
  {
   "cell_type": "code",
   "execution_count": 44,
   "metadata": {
    "colab": {
     "base_uri": "https://localhost:8080/",
     "height": 80
    },
    "id": "iLHou2oJNT5c",
    "outputId": "d969b81c-93d5-4b49-8808-0126ead693ad"
   },
   "outputs": [
    {
     "data": {
      "text/html": [
       "<style>#sk-container-id-1 {\n",
       "  /* Definition of color scheme common for light and dark mode */\n",
       "  --sklearn-color-text: #000;\n",
       "  --sklearn-color-text-muted: #666;\n",
       "  --sklearn-color-line: gray;\n",
       "  /* Definition of color scheme for unfitted estimators */\n",
       "  --sklearn-color-unfitted-level-0: #fff5e6;\n",
       "  --sklearn-color-unfitted-level-1: #f6e4d2;\n",
       "  --sklearn-color-unfitted-level-2: #ffe0b3;\n",
       "  --sklearn-color-unfitted-level-3: chocolate;\n",
       "  /* Definition of color scheme for fitted estimators */\n",
       "  --sklearn-color-fitted-level-0: #f0f8ff;\n",
       "  --sklearn-color-fitted-level-1: #d4ebff;\n",
       "  --sklearn-color-fitted-level-2: #b3dbfd;\n",
       "  --sklearn-color-fitted-level-3: cornflowerblue;\n",
       "\n",
       "  /* Specific color for light theme */\n",
       "  --sklearn-color-text-on-default-background: var(--sg-text-color, var(--theme-code-foreground, var(--jp-content-font-color1, black)));\n",
       "  --sklearn-color-background: var(--sg-background-color, var(--theme-background, var(--jp-layout-color0, white)));\n",
       "  --sklearn-color-border-box: var(--sg-text-color, var(--theme-code-foreground, var(--jp-content-font-color1, black)));\n",
       "  --sklearn-color-icon: #696969;\n",
       "\n",
       "  @media (prefers-color-scheme: dark) {\n",
       "    /* Redefinition of color scheme for dark theme */\n",
       "    --sklearn-color-text-on-default-background: var(--sg-text-color, var(--theme-code-foreground, var(--jp-content-font-color1, white)));\n",
       "    --sklearn-color-background: var(--sg-background-color, var(--theme-background, var(--jp-layout-color0, #111)));\n",
       "    --sklearn-color-border-box: var(--sg-text-color, var(--theme-code-foreground, var(--jp-content-font-color1, white)));\n",
       "    --sklearn-color-icon: #878787;\n",
       "  }\n",
       "}\n",
       "\n",
       "#sk-container-id-1 {\n",
       "  color: var(--sklearn-color-text);\n",
       "}\n",
       "\n",
       "#sk-container-id-1 pre {\n",
       "  padding: 0;\n",
       "}\n",
       "\n",
       "#sk-container-id-1 input.sk-hidden--visually {\n",
       "  border: 0;\n",
       "  clip: rect(1px 1px 1px 1px);\n",
       "  clip: rect(1px, 1px, 1px, 1px);\n",
       "  height: 1px;\n",
       "  margin: -1px;\n",
       "  overflow: hidden;\n",
       "  padding: 0;\n",
       "  position: absolute;\n",
       "  width: 1px;\n",
       "}\n",
       "\n",
       "#sk-container-id-1 div.sk-dashed-wrapped {\n",
       "  border: 1px dashed var(--sklearn-color-line);\n",
       "  margin: 0 0.4em 0.5em 0.4em;\n",
       "  box-sizing: border-box;\n",
       "  padding-bottom: 0.4em;\n",
       "  background-color: var(--sklearn-color-background);\n",
       "}\n",
       "\n",
       "#sk-container-id-1 div.sk-container {\n",
       "  /* jupyter's `normalize.less` sets `[hidden] { display: none; }`\n",
       "     but bootstrap.min.css set `[hidden] { display: none !important; }`\n",
       "     so we also need the `!important` here to be able to override the\n",
       "     default hidden behavior on the sphinx rendered scikit-learn.org.\n",
       "     See: https://github.com/scikit-learn/scikit-learn/issues/21755 */\n",
       "  display: inline-block !important;\n",
       "  position: relative;\n",
       "}\n",
       "\n",
       "#sk-container-id-1 div.sk-text-repr-fallback {\n",
       "  display: none;\n",
       "}\n",
       "\n",
       "div.sk-parallel-item,\n",
       "div.sk-serial,\n",
       "div.sk-item {\n",
       "  /* draw centered vertical line to link estimators */\n",
       "  background-image: linear-gradient(var(--sklearn-color-text-on-default-background), var(--sklearn-color-text-on-default-background));\n",
       "  background-size: 2px 100%;\n",
       "  background-repeat: no-repeat;\n",
       "  background-position: center center;\n",
       "}\n",
       "\n",
       "/* Parallel-specific style estimator block */\n",
       "\n",
       "#sk-container-id-1 div.sk-parallel-item::after {\n",
       "  content: \"\";\n",
       "  width: 100%;\n",
       "  border-bottom: 2px solid var(--sklearn-color-text-on-default-background);\n",
       "  flex-grow: 1;\n",
       "}\n",
       "\n",
       "#sk-container-id-1 div.sk-parallel {\n",
       "  display: flex;\n",
       "  align-items: stretch;\n",
       "  justify-content: center;\n",
       "  background-color: var(--sklearn-color-background);\n",
       "  position: relative;\n",
       "}\n",
       "\n",
       "#sk-container-id-1 div.sk-parallel-item {\n",
       "  display: flex;\n",
       "  flex-direction: column;\n",
       "}\n",
       "\n",
       "#sk-container-id-1 div.sk-parallel-item:first-child::after {\n",
       "  align-self: flex-end;\n",
       "  width: 50%;\n",
       "}\n",
       "\n",
       "#sk-container-id-1 div.sk-parallel-item:last-child::after {\n",
       "  align-self: flex-start;\n",
       "  width: 50%;\n",
       "}\n",
       "\n",
       "#sk-container-id-1 div.sk-parallel-item:only-child::after {\n",
       "  width: 0;\n",
       "}\n",
       "\n",
       "/* Serial-specific style estimator block */\n",
       "\n",
       "#sk-container-id-1 div.sk-serial {\n",
       "  display: flex;\n",
       "  flex-direction: column;\n",
       "  align-items: center;\n",
       "  background-color: var(--sklearn-color-background);\n",
       "  padding-right: 1em;\n",
       "  padding-left: 1em;\n",
       "}\n",
       "\n",
       "\n",
       "/* Toggleable style: style used for estimator/Pipeline/ColumnTransformer box that is\n",
       "clickable and can be expanded/collapsed.\n",
       "- Pipeline and ColumnTransformer use this feature and define the default style\n",
       "- Estimators will overwrite some part of the style using the `sk-estimator` class\n",
       "*/\n",
       "\n",
       "/* Pipeline and ColumnTransformer style (default) */\n",
       "\n",
       "#sk-container-id-1 div.sk-toggleable {\n",
       "  /* Default theme specific background. It is overwritten whether we have a\n",
       "  specific estimator or a Pipeline/ColumnTransformer */\n",
       "  background-color: var(--sklearn-color-background);\n",
       "}\n",
       "\n",
       "/* Toggleable label */\n",
       "#sk-container-id-1 label.sk-toggleable__label {\n",
       "  cursor: pointer;\n",
       "  display: flex;\n",
       "  width: 100%;\n",
       "  margin-bottom: 0;\n",
       "  padding: 0.5em;\n",
       "  box-sizing: border-box;\n",
       "  text-align: center;\n",
       "  align-items: start;\n",
       "  justify-content: space-between;\n",
       "  gap: 0.5em;\n",
       "}\n",
       "\n",
       "#sk-container-id-1 label.sk-toggleable__label .caption {\n",
       "  font-size: 0.6rem;\n",
       "  font-weight: lighter;\n",
       "  color: var(--sklearn-color-text-muted);\n",
       "}\n",
       "\n",
       "#sk-container-id-1 label.sk-toggleable__label-arrow:before {\n",
       "  /* Arrow on the left of the label */\n",
       "  content: \"▸\";\n",
       "  float: left;\n",
       "  margin-right: 0.25em;\n",
       "  color: var(--sklearn-color-icon);\n",
       "}\n",
       "\n",
       "#sk-container-id-1 label.sk-toggleable__label-arrow:hover:before {\n",
       "  color: var(--sklearn-color-text);\n",
       "}\n",
       "\n",
       "/* Toggleable content - dropdown */\n",
       "\n",
       "#sk-container-id-1 div.sk-toggleable__content {\n",
       "  max-height: 0;\n",
       "  max-width: 0;\n",
       "  overflow: hidden;\n",
       "  text-align: left;\n",
       "  /* unfitted */\n",
       "  background-color: var(--sklearn-color-unfitted-level-0);\n",
       "}\n",
       "\n",
       "#sk-container-id-1 div.sk-toggleable__content.fitted {\n",
       "  /* fitted */\n",
       "  background-color: var(--sklearn-color-fitted-level-0);\n",
       "}\n",
       "\n",
       "#sk-container-id-1 div.sk-toggleable__content pre {\n",
       "  margin: 0.2em;\n",
       "  border-radius: 0.25em;\n",
       "  color: var(--sklearn-color-text);\n",
       "  /* unfitted */\n",
       "  background-color: var(--sklearn-color-unfitted-level-0);\n",
       "}\n",
       "\n",
       "#sk-container-id-1 div.sk-toggleable__content.fitted pre {\n",
       "  /* unfitted */\n",
       "  background-color: var(--sklearn-color-fitted-level-0);\n",
       "}\n",
       "\n",
       "#sk-container-id-1 input.sk-toggleable__control:checked~div.sk-toggleable__content {\n",
       "  /* Expand drop-down */\n",
       "  max-height: 200px;\n",
       "  max-width: 100%;\n",
       "  overflow: auto;\n",
       "}\n",
       "\n",
       "#sk-container-id-1 input.sk-toggleable__control:checked~label.sk-toggleable__label-arrow:before {\n",
       "  content: \"▾\";\n",
       "}\n",
       "\n",
       "/* Pipeline/ColumnTransformer-specific style */\n",
       "\n",
       "#sk-container-id-1 div.sk-label input.sk-toggleable__control:checked~label.sk-toggleable__label {\n",
       "  color: var(--sklearn-color-text);\n",
       "  background-color: var(--sklearn-color-unfitted-level-2);\n",
       "}\n",
       "\n",
       "#sk-container-id-1 div.sk-label.fitted input.sk-toggleable__control:checked~label.sk-toggleable__label {\n",
       "  background-color: var(--sklearn-color-fitted-level-2);\n",
       "}\n",
       "\n",
       "/* Estimator-specific style */\n",
       "\n",
       "/* Colorize estimator box */\n",
       "#sk-container-id-1 div.sk-estimator input.sk-toggleable__control:checked~label.sk-toggleable__label {\n",
       "  /* unfitted */\n",
       "  background-color: var(--sklearn-color-unfitted-level-2);\n",
       "}\n",
       "\n",
       "#sk-container-id-1 div.sk-estimator.fitted input.sk-toggleable__control:checked~label.sk-toggleable__label {\n",
       "  /* fitted */\n",
       "  background-color: var(--sklearn-color-fitted-level-2);\n",
       "}\n",
       "\n",
       "#sk-container-id-1 div.sk-label label.sk-toggleable__label,\n",
       "#sk-container-id-1 div.sk-label label {\n",
       "  /* The background is the default theme color */\n",
       "  color: var(--sklearn-color-text-on-default-background);\n",
       "}\n",
       "\n",
       "/* On hover, darken the color of the background */\n",
       "#sk-container-id-1 div.sk-label:hover label.sk-toggleable__label {\n",
       "  color: var(--sklearn-color-text);\n",
       "  background-color: var(--sklearn-color-unfitted-level-2);\n",
       "}\n",
       "\n",
       "/* Label box, darken color on hover, fitted */\n",
       "#sk-container-id-1 div.sk-label.fitted:hover label.sk-toggleable__label.fitted {\n",
       "  color: var(--sklearn-color-text);\n",
       "  background-color: var(--sklearn-color-fitted-level-2);\n",
       "}\n",
       "\n",
       "/* Estimator label */\n",
       "\n",
       "#sk-container-id-1 div.sk-label label {\n",
       "  font-family: monospace;\n",
       "  font-weight: bold;\n",
       "  display: inline-block;\n",
       "  line-height: 1.2em;\n",
       "}\n",
       "\n",
       "#sk-container-id-1 div.sk-label-container {\n",
       "  text-align: center;\n",
       "}\n",
       "\n",
       "/* Estimator-specific */\n",
       "#sk-container-id-1 div.sk-estimator {\n",
       "  font-family: monospace;\n",
       "  border: 1px dotted var(--sklearn-color-border-box);\n",
       "  border-radius: 0.25em;\n",
       "  box-sizing: border-box;\n",
       "  margin-bottom: 0.5em;\n",
       "  /* unfitted */\n",
       "  background-color: var(--sklearn-color-unfitted-level-0);\n",
       "}\n",
       "\n",
       "#sk-container-id-1 div.sk-estimator.fitted {\n",
       "  /* fitted */\n",
       "  background-color: var(--sklearn-color-fitted-level-0);\n",
       "}\n",
       "\n",
       "/* on hover */\n",
       "#sk-container-id-1 div.sk-estimator:hover {\n",
       "  /* unfitted */\n",
       "  background-color: var(--sklearn-color-unfitted-level-2);\n",
       "}\n",
       "\n",
       "#sk-container-id-1 div.sk-estimator.fitted:hover {\n",
       "  /* fitted */\n",
       "  background-color: var(--sklearn-color-fitted-level-2);\n",
       "}\n",
       "\n",
       "/* Specification for estimator info (e.g. \"i\" and \"?\") */\n",
       "\n",
       "/* Common style for \"i\" and \"?\" */\n",
       "\n",
       ".sk-estimator-doc-link,\n",
       "a:link.sk-estimator-doc-link,\n",
       "a:visited.sk-estimator-doc-link {\n",
       "  float: right;\n",
       "  font-size: smaller;\n",
       "  line-height: 1em;\n",
       "  font-family: monospace;\n",
       "  background-color: var(--sklearn-color-background);\n",
       "  border-radius: 1em;\n",
       "  height: 1em;\n",
       "  width: 1em;\n",
       "  text-decoration: none !important;\n",
       "  margin-left: 0.5em;\n",
       "  text-align: center;\n",
       "  /* unfitted */\n",
       "  border: var(--sklearn-color-unfitted-level-1) 1pt solid;\n",
       "  color: var(--sklearn-color-unfitted-level-1);\n",
       "}\n",
       "\n",
       ".sk-estimator-doc-link.fitted,\n",
       "a:link.sk-estimator-doc-link.fitted,\n",
       "a:visited.sk-estimator-doc-link.fitted {\n",
       "  /* fitted */\n",
       "  border: var(--sklearn-color-fitted-level-1) 1pt solid;\n",
       "  color: var(--sklearn-color-fitted-level-1);\n",
       "}\n",
       "\n",
       "/* On hover */\n",
       "div.sk-estimator:hover .sk-estimator-doc-link:hover,\n",
       ".sk-estimator-doc-link:hover,\n",
       "div.sk-label-container:hover .sk-estimator-doc-link:hover,\n",
       ".sk-estimator-doc-link:hover {\n",
       "  /* unfitted */\n",
       "  background-color: var(--sklearn-color-unfitted-level-3);\n",
       "  color: var(--sklearn-color-background);\n",
       "  text-decoration: none;\n",
       "}\n",
       "\n",
       "div.sk-estimator.fitted:hover .sk-estimator-doc-link.fitted:hover,\n",
       ".sk-estimator-doc-link.fitted:hover,\n",
       "div.sk-label-container:hover .sk-estimator-doc-link.fitted:hover,\n",
       ".sk-estimator-doc-link.fitted:hover {\n",
       "  /* fitted */\n",
       "  background-color: var(--sklearn-color-fitted-level-3);\n",
       "  color: var(--sklearn-color-background);\n",
       "  text-decoration: none;\n",
       "}\n",
       "\n",
       "/* Span, style for the box shown on hovering the info icon */\n",
       ".sk-estimator-doc-link span {\n",
       "  display: none;\n",
       "  z-index: 9999;\n",
       "  position: relative;\n",
       "  font-weight: normal;\n",
       "  right: .2ex;\n",
       "  padding: .5ex;\n",
       "  margin: .5ex;\n",
       "  width: min-content;\n",
       "  min-width: 20ex;\n",
       "  max-width: 50ex;\n",
       "  color: var(--sklearn-color-text);\n",
       "  box-shadow: 2pt 2pt 4pt #999;\n",
       "  /* unfitted */\n",
       "  background: var(--sklearn-color-unfitted-level-0);\n",
       "  border: .5pt solid var(--sklearn-color-unfitted-level-3);\n",
       "}\n",
       "\n",
       ".sk-estimator-doc-link.fitted span {\n",
       "  /* fitted */\n",
       "  background: var(--sklearn-color-fitted-level-0);\n",
       "  border: var(--sklearn-color-fitted-level-3);\n",
       "}\n",
       "\n",
       ".sk-estimator-doc-link:hover span {\n",
       "  display: block;\n",
       "}\n",
       "\n",
       "/* \"?\"-specific style due to the `<a>` HTML tag */\n",
       "\n",
       "#sk-container-id-1 a.estimator_doc_link {\n",
       "  float: right;\n",
       "  font-size: 1rem;\n",
       "  line-height: 1em;\n",
       "  font-family: monospace;\n",
       "  background-color: var(--sklearn-color-background);\n",
       "  border-radius: 1rem;\n",
       "  height: 1rem;\n",
       "  width: 1rem;\n",
       "  text-decoration: none;\n",
       "  /* unfitted */\n",
       "  color: var(--sklearn-color-unfitted-level-1);\n",
       "  border: var(--sklearn-color-unfitted-level-1) 1pt solid;\n",
       "}\n",
       "\n",
       "#sk-container-id-1 a.estimator_doc_link.fitted {\n",
       "  /* fitted */\n",
       "  border: var(--sklearn-color-fitted-level-1) 1pt solid;\n",
       "  color: var(--sklearn-color-fitted-level-1);\n",
       "}\n",
       "\n",
       "/* On hover */\n",
       "#sk-container-id-1 a.estimator_doc_link:hover {\n",
       "  /* unfitted */\n",
       "  background-color: var(--sklearn-color-unfitted-level-3);\n",
       "  color: var(--sklearn-color-background);\n",
       "  text-decoration: none;\n",
       "}\n",
       "\n",
       "#sk-container-id-1 a.estimator_doc_link.fitted:hover {\n",
       "  /* fitted */\n",
       "  background-color: var(--sklearn-color-fitted-level-3);\n",
       "}\n",
       "</style><div id=\"sk-container-id-1\" class=\"sk-top-container\"><div class=\"sk-text-repr-fallback\"><pre>LinearRegression()</pre><b>In a Jupyter environment, please rerun this cell to show the HTML representation or trust the notebook. <br />On GitHub, the HTML representation is unable to render, please try loading this page with nbviewer.org.</b></div><div class=\"sk-container\" hidden><div class=\"sk-item\"><div class=\"sk-estimator fitted sk-toggleable\"><input class=\"sk-toggleable__control sk-hidden--visually\" id=\"sk-estimator-id-1\" type=\"checkbox\" checked><label for=\"sk-estimator-id-1\" class=\"sk-toggleable__label fitted sk-toggleable__label-arrow\"><div><div>LinearRegression</div></div><div><a class=\"sk-estimator-doc-link fitted\" rel=\"noreferrer\" target=\"_blank\" href=\"https://scikit-learn.org/1.6/modules/generated/sklearn.linear_model.LinearRegression.html\">?<span>Documentation for LinearRegression</span></a><span class=\"sk-estimator-doc-link fitted\">i<span>Fitted</span></span></div></label><div class=\"sk-toggleable__content fitted\"><pre>LinearRegression()</pre></div> </div></div></div></div>"
      ],
      "text/plain": [
       "LinearRegression()"
      ]
     },
     "execution_count": 44,
     "metadata": {},
     "output_type": "execute_result"
    }
   ],
   "source": [
    "regression.fit(x_train,y_train)"
   ]
  },
  {
   "cell_type": "code",
   "execution_count": 45,
   "metadata": {
    "colab": {
     "base_uri": "https://localhost:8080/"
    },
    "id": "o_UklkxNRShi",
    "outputId": "7e0386ca-d981-4f34-b38c-361db7d7a3ce"
   },
   "outputs": [
    {
     "name": "stdout",
     "output_type": "stream",
     "text": [
      "[  -492.33860386  76556.8352835   74933.75166639  24791.88006898\n",
      "  17622.3569215   54003.18121354  15067.97854332  22965.50838277\n",
      "  13419.17053476  13312.73857404 -10202.93190834]\n"
     ]
    }
   ],
   "source": [
    "print(regression.coef_)"
   ]
  },
  {
   "cell_type": "code",
   "execution_count": 46,
   "metadata": {
    "colab": {
     "base_uri": "https://localhost:8080/"
    },
    "id": "GGKBXbZ6RmUX",
    "outputId": "cf96ac68-4387-49c2-a6fd-0ce8acc6db89"
   },
   "outputs": [
    {
     "name": "stdout",
     "output_type": "stream",
     "text": [
      "590180.3048533044\n"
     ]
    }
   ],
   "source": [
    "print(regression.intercept_)"
   ]
  },
  {
   "cell_type": "code",
   "execution_count": 47,
   "metadata": {
    "id": "GQHjPFl-sZV1"
   },
   "outputs": [],
   "source": [
    "y_pred=regression.predict(x_test)"
   ]
  },
  {
   "cell_type": "code",
   "execution_count": 48,
   "metadata": {
    "colab": {
     "base_uri": "https://localhost:8080/"
    },
    "id": "k7SWshSjsZTW",
    "outputId": "521200bf-7666-4c44-9516-8cf30b68c98a"
   },
   "outputs": [
    {
     "data": {
      "text/plain": [
       "array([469578.13758926, 714588.14436751, 619455.88196982, 669303.6886742 ,\n",
       "       608099.15599494, 578299.59632373, 480995.27204516, 401996.63355834,\n",
       "       550124.7682919 , 290885.04399552, 733896.45043475, 625630.32759085,\n",
       "       633823.40663426, 563467.65159132, 567998.2873737 , 495384.21221187,\n",
       "       300834.05621117, 802262.79456737, 420570.12398353, 623570.97761112,\n",
       "       488620.26035854, 408337.37059861, 465829.10496468, 624984.77876384,\n",
       "       635195.07210213, 495708.59459583, 581960.26632351, 493924.4048605 ,\n",
       "       483766.15488717, 557497.55794645, 345258.51162986, 447936.40938082,\n",
       "       827895.208521  , 735823.17106431, 644108.46503117, 480698.28116291,\n",
       "       631104.95964693, 638549.07536663, 569023.37350897, 575086.6808405 ,\n",
       "       662881.21189996, 460414.74688685, 537431.7175193 , 602642.97023196,\n",
       "       605170.64699337, 678391.43107104, 659071.33533479, 443513.88932362,\n",
       "       459957.09425754, 321240.32003367, 502066.42669331, 409280.86307408,\n",
       "       683678.18538729, 660343.22205967, 482823.02341601, 677801.21485524,\n",
       "       448524.63323462, 555409.24463489, 509718.76706334, 608521.98293082,\n",
       "       457886.11756671, 595700.31667548, 671741.18103415, 543407.47068863,\n",
       "       754689.23470245, 447334.53053432, 840491.07987934, 561481.53131851,\n",
       "       666962.80784458, 773898.78855852, 694485.31759606, 662867.18365409,\n",
       "       489173.9417368 , 411253.59440916, 871670.98522592, 554846.94148004,\n",
       "       491630.46351928, 684625.16184967, 451156.01269552, 386727.3771673 ,\n",
       "       550061.56901378, 537450.68535957, 654090.67199203, 606708.40748286,\n",
       "       613647.86631245, 544103.75701007, 595720.37511726, 556328.28846875,\n",
       "       551649.0415198 , 400331.14142223, 606397.27621936, 709696.81405162,\n",
       "       573230.41041099, 537123.51486484, 441364.97511913, 659981.52012469,\n",
       "       657382.52726148, 783161.18259004, 606472.24167692, 495655.93101514,\n",
       "       430551.39528148, 664664.19149131, 660148.09090871, 483799.92705317,\n",
       "       528576.25284877, 436640.66764504, 472246.00684602, 822801.16874695,\n",
       "       695276.90787384, 639537.73142943, 481380.37833042, 404597.67276736,\n",
       "       640314.32008431, 796593.35413527, 606247.3440281 , 506184.78128851,\n",
       "       559550.13805716, 571730.12166225, 353071.10659228, 526154.47875033,\n",
       "       683235.97592581, 527158.16933944, 564545.75664301, 530524.68570714,\n",
       "       432560.76830809, 433806.29915132, 642447.26767263, 597280.01959719,\n",
       "       671658.08408197, 542628.23784227, 523224.08205406, 505396.74484047,\n",
       "       681318.72341999, 579492.66456378, 470069.22234303, 484220.90392621,\n",
       "       435235.37048273, 481965.92107115, 423892.26337666, 414961.67205921,\n",
       "       534826.28192337, 588843.57193012, 513980.55455639, 345820.97866497,\n",
       "       653763.04041713, 649019.77835425, 640237.05427932, 489745.64485909,\n",
       "       583856.61781953, 613661.16954051])"
      ]
     },
     "execution_count": 48,
     "metadata": {},
     "output_type": "execute_result"
    }
   ],
   "source": [
    "y_pred"
   ]
  },
  {
   "cell_type": "code",
   "execution_count": 49,
   "metadata": {
    "colab": {
     "base_uri": "https://localhost:8080/",
     "height": 466
    },
    "id": "EqBg00YMsZQg",
    "outputId": "15fd23d1-1b23-43e2-b526-8602fba42870"
   },
   "outputs": [
    {
     "data": {
      "text/plain": [
       "Text(0, 0.5, 'y_pred')"
      ]
     },
     "execution_count": 49,
     "metadata": {},
     "output_type": "execute_result"
    },
    {
     "data": {
      "image/png": "[encoded data removed]",
      "text/plain": [
       "<Figure size 640x480 with 1 Axes>"
      ]
     },
     "metadata": {},
     "output_type": "display_data"
    }
   ],
   "source": [
    "sns.scatterplot(x=y_test,y=y_pred)\n",
    "plt.xlabel('y_test')\n",
    "plt.ylabel('y_pred')"
   ]
  },
  {
   "cell_type": "code",
   "execution_count": 50,
   "metadata": {
    "id": "B-Dr4yWusZLz"
   },
   "outputs": [],
   "source": [
    "residuals=y_test - y_pred"
   ]
  },
  {
   "cell_type": "code",
   "execution_count": 51,
   "metadata": {
    "colab": {
     "base_uri": "https://localhost:8080/",
     "height": 458
    },
    "id": "mpJNHoCEuHLr",
    "outputId": "58261b22-c2da-4e70-b018-28a73deea65a"
   },
   "outputs": [
    {
     "data": {
      "text/plain": [
       "304    14464.596391\n",
       "340     2765.995252\n",
       "47     30065.769036\n",
       "67     15762.182840\n",
       "479    -1805.172345\n",
       "           ...     \n",
       "331      888.120536\n",
       "197    26408.793911\n",
       "95     13735.000016\n",
       "122   -15869.822665\n",
       "23     15501.186474\n",
       "Name: Price, Length: 150, dtype: float64"
      ]
     },
     "execution_count": 51,
     "metadata": {},
     "output_type": "execute_result"
    }
   ],
   "source": [
    "residuals"
   ]
  },
  {
   "cell_type": "code",
   "execution_count": 52,
   "metadata": {
    "colab": {
     "base_uri": "https://localhost:8080/",
     "height": 523
    },
    "id": "fnWgm-hvuHIP",
    "outputId": "0d717911-e77b-41f0-e243-8f882bce5977"
   },
   "outputs": [
    {
     "data": {
      "text/plain": [
       "Text(0.5, 9.444444444444438, 'residuals')"
      ]
     },
     "execution_count": 52,
     "metadata": {},
     "output_type": "execute_result"
    },
    {
     "data": {
      "image/png": "[encoded data removed]",
      "text/plain": [
       "<Figure size 500x500 with 1 Axes>"
      ]
     },
     "metadata": {},
     "output_type": "display_data"
    }
   ],
   "source": [
    "sns.displot(x=residuals, kind='kde')\n",
    "plt.xlabel('residuals')"
   ]
  },
  {
   "cell_type": "code",
   "execution_count": 53,
   "metadata": {
    "colab": {
     "base_uri": "https://localhost:8080/",
     "height": 447
    },
    "id": "S3YZxE5OuHFX",
    "outputId": "a3a0f07c-dfd7-4a1f-d242-ed7e93e00191"
   },
   "outputs": [
    {
     "data": {
      "text/plain": [
       "<matplotlib.collections.PathCollection at 0x1ce22513ed0>"
      ]
     },
     "execution_count": 53,
     "metadata": {},
     "output_type": "execute_result"
    },
    {
     "data": {
      "image/png": "[encoded data removed]",
      "text/plain": [
       "<Figure size 640x480 with 1 Axes>"
      ]
     },
     "metadata": {},
     "output_type": "display_data"
    }
   ],
   "source": [
    "plt.scatter(y_pred,residuals)"
   ]
  },
  {
   "cell_type": "code",
   "execution_count": 54,
   "metadata": {
    "id": "ic7tOc2HuHC1"
   },
   "outputs": [],
   "source": [
    "from sklearn.metrics import mean_squared_error\n",
    "from sklearn.metrics import mean_absolute_error"
   ]
  },
  {
   "cell_type": "code",
   "execution_count": 55,
   "metadata": {
    "colab": {
     "base_uri": "https://localhost:8080/"
    },
    "id": "a0cfoaFBuG_v",
    "outputId": "b6b177fa-3ab4-445f-a1fc-1ddb6ef8aeac"
   },
   "outputs": [
    {
     "name": "stdout",
     "output_type": "stream",
     "text": [
      "351557899.64116013\n",
      "15015.163582274172\n",
      "18749.877323362947\n"
     ]
    }
   ],
   "source": [
    "print(mean_squared_error(y_test,y_pred))\n",
    "print(mean_absolute_error(y_test,y_pred))\n",
    "print(np.sqrt(mean_squared_error(y_test,y_pred)))"
   ]
  },
  {
   "cell_type": "markdown",
   "metadata": {
    "id": "SDIq_pUqo5Pp"
   },
   "source": [
    "R square and adjusted R square\n"
   ]
  },
  {
   "cell_type": "code",
   "execution_count": 56,
   "metadata": {
    "id": "IsjlXZkGuG9E"
   },
   "outputs": [],
   "source": [
    "#formula R^2= 1-SSR/SST\n"
   ]
  },
  {
   "cell_type": "code",
   "execution_count": 57,
   "metadata": {
    "colab": {
     "base_uri": "https://localhost:8080/"
    },
    "id": "jqDqnCs0SZq2",
    "outputId": "1fb78c74-b4a2-4b84-8c2e-d7e4b015aa52"
   },
   "outputs": [
    {
     "name": "stdout",
     "output_type": "stream",
     "text": [
      "0.9727295092582559\n"
     ]
    }
   ],
   "source": [
    "from sklearn.metrics import r2_score\n",
    "score=r2_score(y_test,y_pred)\n",
    "print(score)"
   ]
  },
  {
   "cell_type": "markdown",
   "metadata": {
    "id": "8ImQYB8Oqw0m"
   },
   "source": [
    "adjusted R^2\n",
    "formula\n",
    "adjusted R2=1-[(1-R2)*(n-1)/(n-k-1)]"
   ]
  },
  {
   "cell_type": "code",
   "execution_count": 58,
   "metadata": {
    "colab": {
     "base_uri": "https://localhost:8080/"
    },
    "id": "vHRzC8VPSZnV",
    "outputId": "47b33020-0e22-4175-c3b3-293ad2052737"
   },
   "outputs": [
    {
     "data": {
      "text/plain": [
       "0.9705557744889864"
      ]
     },
     "execution_count": 58,
     "metadata": {},
     "output_type": "execute_result"
    }
   ],
   "source": [
    "#display adjusted r2\n",
    "1-float((1-score)*(len(y_test)-1)/(len(y_test)-x_test.shape[-1]-1))"
   ]
  },
  {
   "cell_type": "markdown",
   "metadata": {
    "id": "no7kojx9cyOc"
   },
   "source": [
    "PICKLING THE MODEL FILE FOR DEPLOYMENT"
   ]
  },
  {
   "cell_type": "code",
   "execution_count": 59,
   "metadata": {
    "id": "XS0o061MSZax"
   },
   "outputs": [],
   "source": [
    "import pickle"
   ]
  },
  {
   "cell_type": "code",
   "execution_count": 60,
   "metadata": {
    "id": "J0S_twsgSZX-"
   },
   "outputs": [],
   "source": [
    "pickle.dump(regression,open('regmodel.pkl','wb'))"
   ]
  },
  {
   "cell_type": "code",
   "execution_count": 61,
   "metadata": {},
   "outputs": [],
   "source": [
    "import pickle\n",
    "\n",
    "# Safely save the model\n",
    "with open('regmodel.pkl', 'wb') as file:\n",
    "    pickle.dump(regression, file)\n"
   ]
  },
  {
   "cell_type": "code",
   "execution_count": 62,
   "metadata": {},
   "outputs": [],
   "source": [
    "with open('regmodel.pkl', 'rb') as file:\n",
    "    pickled_model = pickle.load(file)"
   ]
  },
  {
   "cell_type": "code",
   "execution_count": 63,
   "metadata": {
    "colab": {
     "base_uri": "https://localhost:8080/",
     "height": 159
    },
    "id": "E8f7QOAbdwcc",
    "outputId": "df1f8b6b-8114-4f24-a511-88f8afe47f57"
   },
   "outputs": [
    {
     "data": {
      "text/html": [
       "<style>#sk-container-id-2 {\n",
       "  /* Definition of color scheme common for light and dark mode */\n",
       "  --sklearn-color-text: #000;\n",
       "  --sklearn-color-text-muted: #666;\n",
       "  --sklearn-color-line: gray;\n",
       "  /* Definition of color scheme for unfitted estimators */\n",
       "  --sklearn-color-unfitted-level-0: #fff5e6;\n",
       "  --sklearn-color-unfitted-level-1: #f6e4d2;\n",
       "  --sklearn-color-unfitted-level-2: #ffe0b3;\n",
       "  --sklearn-color-unfitted-level-3: chocolate;\n",
       "  /* Definition of color scheme for fitted estimators */\n",
       "  --sklearn-color-fitted-level-0: #f0f8ff;\n",
       "  --sklearn-color-fitted-level-1: #d4ebff;\n",
       "  --sklearn-color-fitted-level-2: #b3dbfd;\n",
       "  --sklearn-color-fitted-level-3: cornflowerblue;\n",
       "\n",
       "  /* Specific color for light theme */\n",
       "  --sklearn-color-text-on-default-background: var(--sg-text-color, var(--theme-code-foreground, var(--jp-content-font-color1, black)));\n",
       "  --sklearn-color-background: var(--sg-background-color, var(--theme-background, var(--jp-layout-color0, white)));\n",
       "  --sklearn-color-border-box: var(--sg-text-color, var(--theme-code-foreground, var(--jp-content-font-color1, black)));\n",
       "  --sklearn-color-icon: #696969;\n",
       "\n",
       "  @media (prefers-color-scheme: dark) {\n",
       "    /* Redefinition of color scheme for dark theme */\n",
       "    --sklearn-color-text-on-default-background: var(--sg-text-color, var(--theme-code-foreground, var(--jp-content-font-color1, white)));\n",
       "    --sklearn-color-background: var(--sg-background-color, var(--theme-background, var(--jp-layout-color0, #111)));\n",
       "    --sklearn-color-border-box: var(--sg-text-color, var(--theme-code-foreground, var(--jp-content-font-color1, white)));\n",
       "    --sklearn-color-icon: #878787;\n",
       "  }\n",
       "}\n",
       "\n",
       "#sk-container-id-2 {\n",
       "  color: var(--sklearn-color-text);\n",
       "}\n",
       "\n",
       "#sk-container-id-2 pre {\n",
       "  padding: 0;\n",
       "}\n",
       "\n",
       "#sk-container-id-2 input.sk-hidden--visually {\n",
       "  border: 0;\n",
       "  clip: rect(1px 1px 1px 1px);\n",
       "  clip: rect(1px, 1px, 1px, 1px);\n",
       "  height: 1px;\n",
       "  margin: -1px;\n",
       "  overflow: hidden;\n",
       "  padding: 0;\n",
       "  position: absolute;\n",
       "  width: 1px;\n",
       "}\n",
       "\n",
       "#sk-container-id-2 div.sk-dashed-wrapped {\n",
       "  border: 1px dashed var(--sklearn-color-line);\n",
       "  margin: 0 0.4em 0.5em 0.4em;\n",
       "  box-sizing: border-box;\n",
       "  padding-bottom: 0.4em;\n",
       "  background-color: var(--sklearn-color-background);\n",
       "}\n",
       "\n",
       "#sk-container-id-2 div.sk-container {\n",
       "  /* jupyter's `normalize.less` sets `[hidden] { display: none; }`\n",
       "     but bootstrap.min.css set `[hidden] { display: none !important; }`\n",
       "     so we also need the `!important` here to be able to override the\n",
       "     default hidden behavior on the sphinx rendered scikit-learn.org.\n",
       "     See: https://github.com/scikit-learn/scikit-learn/issues/21755 */\n",
       "  display: inline-block !important;\n",
       "  position: relative;\n",
       "}\n",
       "\n",
       "#sk-container-id-2 div.sk-text-repr-fallback {\n",
       "  display: none;\n",
       "}\n",
       "\n",
       "div.sk-parallel-item,\n",
       "div.sk-serial,\n",
       "div.sk-item {\n",
       "  /* draw centered vertical line to link estimators */\n",
       "  background-image: linear-gradient(var(--sklearn-color-text-on-default-background), var(--sklearn-color-text-on-default-background));\n",
       "  background-size: 2px 100%;\n",
       "  background-repeat: no-repeat;\n",
       "  background-position: center center;\n",
       "}\n",
       "\n",
       "/* Parallel-specific style estimator block */\n",
       "\n",
       "#sk-container-id-2 div.sk-parallel-item::after {\n",
       "  content: \"\";\n",
       "  width: 100%;\n",
       "  border-bottom: 2px solid var(--sklearn-color-text-on-default-background);\n",
       "  flex-grow: 1;\n",
       "}\n",
       "\n",
       "#sk-container-id-2 div.sk-parallel {\n",
       "  display: flex;\n",
       "  align-items: stretch;\n",
       "  justify-content: center;\n",
       "  background-color: var(--sklearn-color-background);\n",
       "  position: relative;\n",
       "}\n",
       "\n",
       "#sk-container-id-2 div.sk-parallel-item {\n",
       "  display: flex;\n",
       "  flex-direction: column;\n",
       "}\n",
       "\n",
       "#sk-container-id-2 div.sk-parallel-item:first-child::after {\n",
       "  align-self: flex-end;\n",
       "  width: 50%;\n",
       "}\n",
       "\n",
       "#sk-container-id-2 div.sk-parallel-item:last-child::after {\n",
       "  align-self: flex-start;\n",
       "  width: 50%;\n",
       "}\n",
       "\n",
       "#sk-container-id-2 div.sk-parallel-item:only-child::after {\n",
       "  width: 0;\n",
       "}\n",
       "\n",
       "/* Serial-specific style estimator block */\n",
       "\n",
       "#sk-container-id-2 div.sk-serial {\n",
       "  display: flex;\n",
       "  flex-direction: column;\n",
       "  align-items: center;\n",
       "  background-color: var(--sklearn-color-background);\n",
       "  padding-right: 1em;\n",
       "  padding-left: 1em;\n",
       "}\n",
       "\n",
       "\n",
       "/* Toggleable style: style used for estimator/Pipeline/ColumnTransformer box that is\n",
       "clickable and can be expanded/collapsed.\n",
       "- Pipeline and ColumnTransformer use this feature and define the default style\n",
       "- Estimators will overwrite some part of the style using the `sk-estimator` class\n",
       "*/\n",
       "\n",
       "/* Pipeline and ColumnTransformer style (default) */\n",
       "\n",
       "#sk-container-id-2 div.sk-toggleable {\n",
       "  /* Default theme specific background. It is overwritten whether we have a\n",
       "  specific estimator or a Pipeline/ColumnTransformer */\n",
       "  background-color: var(--sklearn-color-background);\n",
       "}\n",
       "\n",
       "/* Toggleable label */\n",
       "#sk-container-id-2 label.sk-toggleable__label {\n",
       "  cursor: pointer;\n",
       "  display: flex;\n",
       "  width: 100%;\n",
       "  margin-bottom: 0;\n",
       "  padding: 0.5em;\n",
       "  box-sizing: border-box;\n",
       "  text-align: center;\n",
       "  align-items: start;\n",
       "  justify-content: space-between;\n",
       "  gap: 0.5em;\n",
       "}\n",
       "\n",
       "#sk-container-id-2 label.sk-toggleable__label .caption {\n",
       "  font-size: 0.6rem;\n",
       "  font-weight: lighter;\n",
       "  color: var(--sklearn-color-text-muted);\n",
       "}\n",
       "\n",
       "#sk-container-id-2 label.sk-toggleable__label-arrow:before {\n",
       "  /* Arrow on the left of the label */\n",
       "  content: \"▸\";\n",
       "  float: left;\n",
       "  margin-right: 0.25em;\n",
       "  color: var(--sklearn-color-icon);\n",
       "}\n",
       "\n",
       "#sk-container-id-2 label.sk-toggleable__label-arrow:hover:before {\n",
       "  color: var(--sklearn-color-text);\n",
       "}\n",
       "\n",
       "/* Toggleable content - dropdown */\n",
       "\n",
       "#sk-container-id-2 div.sk-toggleable__content {\n",
       "  max-height: 0;\n",
       "  max-width: 0;\n",
       "  overflow: hidden;\n",
       "  text-align: left;\n",
       "  /* unfitted */\n",
       "  background-color: var(--sklearn-color-unfitted-level-0);\n",
       "}\n",
       "\n",
       "#sk-container-id-2 div.sk-toggleable__content.fitted {\n",
       "  /* fitted */\n",
       "  background-color: var(--sklearn-color-fitted-level-0);\n",
       "}\n",
       "\n",
       "#sk-container-id-2 div.sk-toggleable__content pre {\n",
       "  margin: 0.2em;\n",
       "  border-radius: 0.25em;\n",
       "  color: var(--sklearn-color-text);\n",
       "  /* unfitted */\n",
       "  background-color: var(--sklearn-color-unfitted-level-0);\n",
       "}\n",
       "\n",
       "#sk-container-id-2 div.sk-toggleable__content.fitted pre {\n",
       "  /* unfitted */\n",
       "  background-color: var(--sklearn-color-fitted-level-0);\n",
       "}\n",
       "\n",
       "#sk-container-id-2 input.sk-toggleable__control:checked~div.sk-toggleable__content {\n",
       "  /* Expand drop-down */\n",
       "  max-height: 200px;\n",
       "  max-width: 100%;\n",
       "  overflow: auto;\n",
       "}\n",
       "\n",
       "#sk-container-id-2 input.sk-toggleable__control:checked~label.sk-toggleable__label-arrow:before {\n",
       "  content: \"▾\";\n",
       "}\n",
       "\n",
       "/* Pipeline/ColumnTransformer-specific style */\n",
       "\n",
       "#sk-container-id-2 div.sk-label input.sk-toggleable__control:checked~label.sk-toggleable__label {\n",
       "  color: var(--sklearn-color-text);\n",
       "  background-color: var(--sklearn-color-unfitted-level-2);\n",
       "}\n",
       "\n",
       "#sk-container-id-2 div.sk-label.fitted input.sk-toggleable__control:checked~label.sk-toggleable__label {\n",
       "  background-color: var(--sklearn-color-fitted-level-2);\n",
       "}\n",
       "\n",
       "/* Estimator-specific style */\n",
       "\n",
       "/* Colorize estimator box */\n",
       "#sk-container-id-2 div.sk-estimator input.sk-toggleable__control:checked~label.sk-toggleable__label {\n",
       "  /* unfitted */\n",
       "  background-color: var(--sklearn-color-unfitted-level-2);\n",
       "}\n",
       "\n",
       "#sk-container-id-2 div.sk-estimator.fitted input.sk-toggleable__control:checked~label.sk-toggleable__label {\n",
       "  /* fitted */\n",
       "  background-color: var(--sklearn-color-fitted-level-2);\n",
       "}\n",
       "\n",
       "#sk-container-id-2 div.sk-label label.sk-toggleable__label,\n",
       "#sk-container-id-2 div.sk-label label {\n",
       "  /* The background is the default theme color */\n",
       "  color: var(--sklearn-color-text-on-default-background);\n",
       "}\n",
       "\n",
       "/* On hover, darken the color of the background */\n",
       "#sk-container-id-2 div.sk-label:hover label.sk-toggleable__label {\n",
       "  color: var(--sklearn-color-text);\n",
       "  background-color: var(--sklearn-color-unfitted-level-2);\n",
       "}\n",
       "\n",
       "/* Label box, darken color on hover, fitted */\n",
       "#sk-container-id-2 div.sk-label.fitted:hover label.sk-toggleable__label.fitted {\n",
       "  color: var(--sklearn-color-text);\n",
       "  background-color: var(--sklearn-color-fitted-level-2);\n",
       "}\n",
       "\n",
       "/* Estimator label */\n",
       "\n",
       "#sk-container-id-2 div.sk-label label {\n",
       "  font-family: monospace;\n",
       "  font-weight: bold;\n",
       "  display: inline-block;\n",
       "  line-height: 1.2em;\n",
       "}\n",
       "\n",
       "#sk-container-id-2 div.sk-label-container {\n",
       "  text-align: center;\n",
       "}\n",
       "\n",
       "/* Estimator-specific */\n",
       "#sk-container-id-2 div.sk-estimator {\n",
       "  font-family: monospace;\n",
       "  border: 1px dotted var(--sklearn-color-border-box);\n",
       "  border-radius: 0.25em;\n",
       "  box-sizing: border-box;\n",
       "  margin-bottom: 0.5em;\n",
       "  /* unfitted */\n",
       "  background-color: var(--sklearn-color-unfitted-level-0);\n",
       "}\n",
       "\n",
       "#sk-container-id-2 div.sk-estimator.fitted {\n",
       "  /* fitted */\n",
       "  background-color: var(--sklearn-color-fitted-level-0);\n",
       "}\n",
       "\n",
       "/* on hover */\n",
       "#sk-container-id-2 div.sk-estimator:hover {\n",
       "  /* unfitted */\n",
       "  background-color: var(--sklearn-color-unfitted-level-2);\n",
       "}\n",
       "\n",
       "#sk-container-id-2 div.sk-estimator.fitted:hover {\n",
       "  /* fitted */\n",
       "  background-color: var(--sklearn-color-fitted-level-2);\n",
       "}\n",
       "\n",
       "/* Specification for estimator info (e.g. \"i\" and \"?\") */\n",
       "\n",
       "/* Common style for \"i\" and \"?\" */\n",
       "\n",
       ".sk-estimator-doc-link,\n",
       "a:link.sk-estimator-doc-link,\n",
       "a:visited.sk-estimator-doc-link {\n",
       "  float: right;\n",
       "  font-size: smaller;\n",
       "  line-height: 1em;\n",
       "  font-family: monospace;\n",
       "  background-color: var(--sklearn-color-background);\n",
       "  border-radius: 1em;\n",
       "  height: 1em;\n",
       "  width: 1em;\n",
       "  text-decoration: none !important;\n",
       "  margin-left: 0.5em;\n",
       "  text-align: center;\n",
       "  /* unfitted */\n",
       "  border: var(--sklearn-color-unfitted-level-1) 1pt solid;\n",
       "  color: var(--sklearn-color-unfitted-level-1);\n",
       "}\n",
       "\n",
       ".sk-estimator-doc-link.fitted,\n",
       "a:link.sk-estimator-doc-link.fitted,\n",
       "a:visited.sk-estimator-doc-link.fitted {\n",
       "  /* fitted */\n",
       "  border: var(--sklearn-color-fitted-level-1) 1pt solid;\n",
       "  color: var(--sklearn-color-fitted-level-1);\n",
       "}\n",
       "\n",
       "/* On hover */\n",
       "div.sk-estimator:hover .sk-estimator-doc-link:hover,\n",
       ".sk-estimator-doc-link:hover,\n",
       "div.sk-label-container:hover .sk-estimator-doc-link:hover,\n",
       ".sk-estimator-doc-link:hover {\n",
       "  /* unfitted */\n",
       "  background-color: var(--sklearn-color-unfitted-level-3);\n",
       "  color: var(--sklearn-color-background);\n",
       "  text-decoration: none;\n",
       "}\n",
       "\n",
       "div.sk-estimator.fitted:hover .sk-estimator-doc-link.fitted:hover,\n",
       ".sk-estimator-doc-link.fitted:hover,\n",
       "div.sk-label-container:hover .sk-estimator-doc-link.fitted:hover,\n",
       ".sk-estimator-doc-link.fitted:hover {\n",
       "  /* fitted */\n",
       "  background-color: var(--sklearn-color-fitted-level-3);\n",
       "  color: var(--sklearn-color-background);\n",
       "  text-decoration: none;\n",
       "}\n",
       "\n",
       "/* Span, style for the box shown on hovering the info icon */\n",
       ".sk-estimator-doc-link span {\n",
       "  display: none;\n",
       "  z-index: 9999;\n",
       "  position: relative;\n",
       "  font-weight: normal;\n",
       "  right: .2ex;\n",
       "  padding: .5ex;\n",
       "  margin: .5ex;\n",
       "  width: min-content;\n",
       "  min-width: 20ex;\n",
       "  max-width: 50ex;\n",
       "  color: var(--sklearn-color-text);\n",
       "  box-shadow: 2pt 2pt 4pt #999;\n",
       "  /* unfitted */\n",
       "  background: var(--sklearn-color-unfitted-level-0);\n",
       "  border: .5pt solid var(--sklearn-color-unfitted-level-3);\n",
       "}\n",
       "\n",
       ".sk-estimator-doc-link.fitted span {\n",
       "  /* fitted */\n",
       "  background: var(--sklearn-color-fitted-level-0);\n",
       "  border: var(--sklearn-color-fitted-level-3);\n",
       "}\n",
       "\n",
       ".sk-estimator-doc-link:hover span {\n",
       "  display: block;\n",
       "}\n",
       "\n",
       "/* \"?\"-specific style due to the `<a>` HTML tag */\n",
       "\n",
       "#sk-container-id-2 a.estimator_doc_link {\n",
       "  float: right;\n",
       "  font-size: 1rem;\n",
       "  line-height: 1em;\n",
       "  font-family: monospace;\n",
       "  background-color: var(--sklearn-color-background);\n",
       "  border-radius: 1rem;\n",
       "  height: 1rem;\n",
       "  width: 1rem;\n",
       "  text-decoration: none;\n",
       "  /* unfitted */\n",
       "  color: var(--sklearn-color-unfitted-level-1);\n",
       "  border: var(--sklearn-color-unfitted-level-1) 1pt solid;\n",
       "}\n",
       "\n",
       "#sk-container-id-2 a.estimator_doc_link.fitted {\n",
       "  /* fitted */\n",
       "  border: var(--sklearn-color-fitted-level-1) 1pt solid;\n",
       "  color: var(--sklearn-color-fitted-level-1);\n",
       "}\n",
       "\n",
       "/* On hover */\n",
       "#sk-container-id-2 a.estimator_doc_link:hover {\n",
       "  /* unfitted */\n",
       "  background-color: var(--sklearn-color-unfitted-level-3);\n",
       "  color: var(--sklearn-color-background);\n",
       "  text-decoration: none;\n",
       "}\n",
       "\n",
       "#sk-container-id-2 a.estimator_doc_link.fitted:hover {\n",
       "  /* fitted */\n",
       "  background-color: var(--sklearn-color-fitted-level-3);\n",
       "}\n",
       "</style><div id=\"sk-container-id-2\" class=\"sk-top-container\"><div class=\"sk-text-repr-fallback\"><pre>LinearRegression()</pre><b>In a Jupyter environment, please rerun this cell to show the HTML representation or trust the notebook. <br />On GitHub, the HTML representation is unable to render, please try loading this page with nbviewer.org.</b></div><div class=\"sk-container\" hidden><div class=\"sk-item\"><div class=\"sk-estimator fitted sk-toggleable\"><input class=\"sk-toggleable__control sk-hidden--visually\" id=\"sk-estimator-id-2\" type=\"checkbox\" checked><label for=\"sk-estimator-id-2\" class=\"sk-toggleable__label fitted sk-toggleable__label-arrow\"><div><div>LinearRegression</div></div><div><a class=\"sk-estimator-doc-link fitted\" rel=\"noreferrer\" target=\"_blank\" href=\"https://scikit-learn.org/1.6/modules/generated/sklearn.linear_model.LinearRegression.html\">?<span>Documentation for LinearRegression</span></a><span class=\"sk-estimator-doc-link fitted\">i<span>Fitted</span></span></div></label><div class=\"sk-toggleable__content fitted\"><pre>LinearRegression()</pre></div> </div></div></div></div>"
      ],
      "text/plain": [
       "LinearRegression()"
      ]
     },
     "execution_count": 63,
     "metadata": {},
     "output_type": "execute_result"
    }
   ],
   "source": [
    "#prediction\n",
    "pickled_model"
   ]
  },
  {
   "cell_type": "code",
   "execution_count": null,
   "metadata": {
    "id": "nY3k3Rm7dwY7"
   },
   "outputs": [],
   "source": []
  },
  {
   "cell_type": "code",
   "execution_count": null,
   "metadata": {
    "id": "Bxg2yrVQdwWg"
   },
   "outputs": [],
   "source": []
  },
  {
   "cell_type": "code",
   "execution_count": null,
   "metadata": {
    "id": "Cpy2x8IHdwUB"
   },
   "outputs": [],
   "source": []
  },
  {
   "cell_type": "code",
   "execution_count": null,
   "metadata": {
    "id": "UYdYOboLdwQx"
   },
   "outputs": [],
   "source": []
  }
 ],
 "metadata": {
  "colab": {
   "provenance": []
  },
  "kernelspec": {
   "display_name": "Python 3 (ipykernel)",
   "language": "python",
   "name": "python3"
  },
  "language_info": {
   "codemirror_mode": {
    "name": "ipython",
    "version": 3
   },
   "file_extension": ".py",
   "mimetype": "text/x-python",
   "name": "python",
   "nbconvert_exporter": "python",
   "pygments_lexer": "ipython3",
   "version": "3.13.1"
  }
 },
 "nbformat": 4,
 "nbformat_minor": 4
}
